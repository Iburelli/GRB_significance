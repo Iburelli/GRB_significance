{
 "cells": [
  {
   "cell_type": "code",
   "execution_count": 1,
   "id": "7a32f632",
   "metadata": {},
   "outputs": [],
   "source": [
    "import numpy as np\n",
    "import pandas as pd\n",
    "import matplotlib.pyplot as plt\n",
    "import matplotlib.cm as cm"
   ]
  },
  {
   "cell_type": "markdown",
   "id": "4d763952",
   "metadata": {
    "slideshow": {
     "slide_type": "slide"
    }
   },
   "source": [
    "Reading the table with grbs varibles in order to atttach $E_{iso}$ and z to each event(these variables will be used for plots"
   ]
  },
  {
   "cell_type": "code",
   "execution_count": 2,
   "id": "26cf605f",
   "metadata": {},
   "outputs": [],
   "source": [
    "df=pd.read_csv('table_1000_long.csv', index_col=0)"
   ]
  },
  {
   "cell_type": "code",
   "execution_count": 3,
   "id": "d4656674",
   "metadata": {
    "scrolled": true
   },
   "outputs": [
    {
     "data": {
      "text/html": [
       "<div>\n",
       "<style scoped>\n",
       "    .dataframe tbody tr th:only-of-type {\n",
       "        vertical-align: middle;\n",
       "    }\n",
       "\n",
       "    .dataframe tbody tr th {\n",
       "        vertical-align: top;\n",
       "    }\n",
       "\n",
       "    .dataframe thead th {\n",
       "        text-align: right;\n",
       "    }\n",
       "</style>\n",
       "<table border=\"1\" class=\"dataframe\">\n",
       "  <thead>\n",
       "    <tr style=\"text-align: right;\">\n",
       "      <th></th>\n",
       "      <th>Num</th>\n",
       "      <th>Ra</th>\n",
       "      <th>Dec</th>\n",
       "      <th>Redshift</th>\n",
       "      <th>Eiso</th>\n",
       "      <th>Liso</th>\n",
       "      <th>Epeak</th>\n",
       "      <th>Duration</th>\n",
       "      <th>Gamma0(H)</th>\n",
       "      <th>Gamma0(W)</th>\n",
       "      <th>Phflux(15-150)</th>\n",
       "      <th>alfa</th>\n",
       "      <th>beta</th>\n",
       "      <th>PhFlux(10-1000)</th>\n",
       "    </tr>\n",
       "  </thead>\n",
       "  <tbody>\n",
       "    <tr>\n",
       "      <th>0</th>\n",
       "      <td>1</td>\n",
       "      <td>211.3340</td>\n",
       "      <td>71.0714</td>\n",
       "      <td>2.358773</td>\n",
       "      <td>3.873160e+53</td>\n",
       "      <td>3.471493e+52</td>\n",
       "      <td>602.763363</td>\n",
       "      <td>108.845</td>\n",
       "      <td>153.147</td>\n",
       "      <td>96.239</td>\n",
       "      <td>3.370</td>\n",
       "      <td>-1.130</td>\n",
       "      <td>-2.380</td>\n",
       "      <td>4.820</td>\n",
       "    </tr>\n",
       "    <tr>\n",
       "      <th>1</th>\n",
       "      <td>2</td>\n",
       "      <td>82.4082</td>\n",
       "      <td>-23.5267</td>\n",
       "      <td>1.131562</td>\n",
       "      <td>1.684641e+53</td>\n",
       "      <td>1.130565e+52</td>\n",
       "      <td>396.028272</td>\n",
       "      <td>88.762</td>\n",
       "      <td>424.473</td>\n",
       "      <td>165.292</td>\n",
       "      <td>6.918</td>\n",
       "      <td>-1.049</td>\n",
       "      <td>-2.509</td>\n",
       "      <td>9.830</td>\n",
       "    </tr>\n",
       "    <tr>\n",
       "      <th>2</th>\n",
       "      <td>3</td>\n",
       "      <td>92.1914</td>\n",
       "      <td>35.9299</td>\n",
       "      <td>2.023389</td>\n",
       "      <td>5.181373e+53</td>\n",
       "      <td>1.973927e+52</td>\n",
       "      <td>560.332365</td>\n",
       "      <td>259.619</td>\n",
       "      <td>362.259</td>\n",
       "      <td>179.344</td>\n",
       "      <td>2.714</td>\n",
       "      <td>-0.955</td>\n",
       "      <td>-2.473</td>\n",
       "      <td>3.836</td>\n",
       "    </tr>\n",
       "    <tr>\n",
       "      <th>3</th>\n",
       "      <td>4</td>\n",
       "      <td>11.8900</td>\n",
       "      <td>42.4303</td>\n",
       "      <td>2.852917</td>\n",
       "      <td>7.321880e+52</td>\n",
       "      <td>3.195091e+52</td>\n",
       "      <td>278.800372</td>\n",
       "      <td>22.905</td>\n",
       "      <td>253.767</td>\n",
       "      <td>102.093</td>\n",
       "      <td>3.175</td>\n",
       "      <td>-0.930</td>\n",
       "      <td>-2.438</td>\n",
       "      <td>4.337</td>\n",
       "    </tr>\n",
       "    <tr>\n",
       "      <th>4</th>\n",
       "      <td>5</td>\n",
       "      <td>105.1957</td>\n",
       "      <td>-14.9235</td>\n",
       "      <td>2.944518</td>\n",
       "      <td>1.547294e+53</td>\n",
       "      <td>4.593979e+52</td>\n",
       "      <td>568.000476</td>\n",
       "      <td>53.856</td>\n",
       "      <td>220.795</td>\n",
       "      <td>105.403</td>\n",
       "      <td>3.439</td>\n",
       "      <td>-1.002</td>\n",
       "      <td>-2.689</td>\n",
       "      <td>4.748</td>\n",
       "    </tr>\n",
       "  </tbody>\n",
       "</table>\n",
       "</div>"
      ],
      "text/plain": [
       "   Num        Ra      Dec  Redshift          Eiso          Liso       Epeak  \\\n",
       "0    1  211.3340  71.0714  2.358773  3.873160e+53  3.471493e+52  602.763363   \n",
       "1    2   82.4082 -23.5267  1.131562  1.684641e+53  1.130565e+52  396.028272   \n",
       "2    3   92.1914  35.9299  2.023389  5.181373e+53  1.973927e+52  560.332365   \n",
       "3    4   11.8900  42.4303  2.852917  7.321880e+52  3.195091e+52  278.800372   \n",
       "4    5  105.1957 -14.9235  2.944518  1.547294e+53  4.593979e+52  568.000476   \n",
       "\n",
       "   Duration  Gamma0(H)  Gamma0(W)  Phflux(15-150)   alfa   beta  \\\n",
       "0   108.845    153.147     96.239           3.370 -1.130 -2.380   \n",
       "1    88.762    424.473    165.292           6.918 -1.049 -2.509   \n",
       "2   259.619    362.259    179.344           2.714 -0.955 -2.473   \n",
       "3    22.905    253.767    102.093           3.175 -0.930 -2.438   \n",
       "4    53.856    220.795    105.403           3.439 -1.002 -2.689   \n",
       "\n",
       "   PhFlux(10-1000)  \n",
       "0            4.820  \n",
       "1            9.830  \n",
       "2            3.836  \n",
       "3            4.337  \n",
       "4            4.748  "
      ]
     },
     "execution_count": 3,
     "metadata": {},
     "output_type": "execute_result"
    }
   ],
   "source": [
    "df.head()"
   ]
  },
  {
   "cell_type": "code",
   "execution_count": 4,
   "id": "1f5756f0",
   "metadata": {},
   "outputs": [
    {
     "data": {
      "text/plain": [
       "Num                4.930000e+02\n",
       "Ra                 2.667185e+02\n",
       "Dec                5.436470e+01\n",
       "Redshift           9.848727e-01\n",
       "Eiso               9.081313e+51\n",
       "Liso               2.026256e+51\n",
       "Epeak              4.647928e+01\n",
       "Duration           2.816800e+01\n",
       "Gamma0(H)          4.833830e+02\n",
       "Gamma0(W)          1.107860e+02\n",
       "Phflux(15-150)     3.617000e+00\n",
       "alfa              -9.930000e-01\n",
       "beta              -2.596000e+00\n",
       "PhFlux(10-1000)    5.681000e+00\n",
       "Name: 492, dtype: float64"
      ]
     },
     "execution_count": 4,
     "metadata": {},
     "output_type": "execute_result"
    }
   ],
   "source": [
    "evt_details = df.loc[492] # per localizzare un evento devo dare il numero di riga. \n",
    "evt_details               # ricordati che le righe partono da 0, gli eventi da 1"
   ]
  },
  {
   "cell_type": "markdown",
   "id": "956438a5",
   "metadata": {},
   "source": [
    "### Reading significance from npy tables"
   ]
  },
  {
   "cell_type": "code",
   "execution_count": 5,
   "id": "817e8763",
   "metadata": {},
   "outputs": [],
   "source": [
    "data= np.load('examples/Low_sigma.iterations.North.noMoon.thresh24.hidden.npy', \n",
    "              allow_pickle=True, encoding='latin1', fix_imports=True).flat[0]\n",
    "events = list(data.keys())\n",
    "sites = list(data[events[0]].keys())\n"
   ]
  },
  {
   "cell_type": "code",
   "execution_count": 6,
   "id": "6486e88b",
   "metadata": {},
   "outputs": [],
   "source": [
    "# simulation conditions\n",
    "# Usate solo nei nomi dei grafici. Introdotte qua per doverle modificare solo 1 volta\n",
    "moon_condition = 'noMoon'\n",
    "alt_thresh= 24\n",
    "iterations = 'no'"
   ]
  },
  {
   "cell_type": "code",
   "execution_count": 7,
   "id": "22266982",
   "metadata": {
    "scrolled": false
   },
   "outputs": [],
   "source": [
    "summed={}\n",
    "max_sigma=[]\n",
    "z=[]\n",
    "Eiso=[]\n",
    "#number=[]   serve solo nel ciclo di controllo\n",
    "for event in events:\n",
    "    #if event!='Event1000':    # al momento c'è un problema con le chiavi per il sito 1000\n",
    "        summed[event]={}      # mentre capisco cosa sia successo l'ho eliminato dalla lista\n",
    "        for i,num in enumerate(df.Num):\n",
    "\n",
    "            if event.endswith(f'Event{num}'):\n",
    "               \n",
    "                z.append(df.Redshift[num-1] )   #the resulting vectors will \n",
    "                Eiso.append(df.Eiso[num-1])     #have the same order as events list\n",
    "\n",
    "                for site in sites:\n",
    "                    summed[event][site]={'significance':[]}\n",
    "\n",
    "                    for night in data[event][site]:\n",
    "                        if night != 'first_night_start':\n",
    "                            if type(data[event][site][night]['irf']) == float:\n",
    "                                summed[event][site]['significance'].append([0.0])\n",
    "                            else:\n",
    "                                if '3sigma' in data[event][site][night].keys() and '3sigma' not in summed[event][site].keys():\n",
    "                                    summed[event][site]['3sigma']=[data[event][site][night]['3sigma'][0],\n",
    "                                                       data[event][site][night]['3sigma'][1]]\n",
    "                                if '5sigma' in data[event][site][night].keys() and '5sigma' not in summed[event][site].keys():\n",
    "                                    summed[event][site]['5sigma']=[data[event][site][night]['5sigma'][0],\n",
    "                                                       data[event][site][night]['5sigma'][1]]\n",
    "                                \n",
    "                               \n",
    "                                summed[event][site]['significance'].append(\n",
    "                                    data[event][site][night]['significance'])"
   ]
  },
  {
   "cell_type": "code",
   "execution_count": 8,
   "id": "c18e5f91",
   "metadata": {},
   "outputs": [],
   "source": [
    "#for event in summed.keys():\n",
    "#    print (event)"
   ]
  },
  {
   "cell_type": "code",
   "execution_count": 9,
   "id": "720adc1d",
   "metadata": {},
   "outputs": [],
   "source": [
    "#ciclo di controllo per accertarsi che associ correttamente z ed Esio all'evento \n",
    "#for i,num in enumerate(number):\n",
    "    #print (f' Event{num}, {z[i]-df.Redshift[num-1]} , {Eiso[i]-df.Eiso[num-1]}' )   "
   ]
  },
  {
   "cell_type": "code",
   "execution_count": 10,
   "id": "eabf014f",
   "metadata": {},
   "outputs": [],
   "source": [
    "for i, event in enumerate(events):\n",
    "    \n",
    "    #if event!='Event1000':\n",
    "        for site in sites:  \n",
    "            summed[event][site]['significance']=np.hstack(summed[event][site]['significance'])\n",
    "            max_sigma.append(max(summed[event][site]['significance']))\n"
   ]
  },
  {
   "cell_type": "markdown",
   "id": "d9e58689",
   "metadata": {},
   "source": [
    "In order to inspect if everithing is fine let's print the shape of some vectors. They must be equal if the script has performed correctly. If they are not it's a big deal "
   ]
  },
  {
   "cell_type": "code",
   "execution_count": 11,
   "id": "48c8961f",
   "metadata": {},
   "outputs": [
    {
     "name": "stdout",
     "output_type": "stream",
     "text": [
      "51\n",
      "51\n"
     ]
    }
   ],
   "source": [
    "max_sigma=np.array(max_sigma)\n",
    "print(len(max_sigma))\n",
    "print (len(events))\n",
    "#print (events[908],max_sigma[908])"
   ]
  },
  {
   "cell_type": "code",
   "execution_count": 12,
   "id": "57c0178e",
   "metadata": {},
   "outputs": [],
   "source": [
    "z=np.array(z)   #as usual going from list to array\n",
    "Eiso=np.array(Eiso)"
   ]
  },
  {
   "cell_type": "code",
   "execution_count": 13,
   "id": "86f22551",
   "metadata": {},
   "outputs": [
    {
     "data": {
      "text/plain": [
       "(51,)"
      ]
     },
     "execution_count": 13,
     "metadata": {},
     "output_type": "execute_result"
    }
   ],
   "source": [
    "z.shape     # must be equal to len(events)"
   ]
  },
  {
   "cell_type": "code",
   "execution_count": 24,
   "id": "d4e978a7",
   "metadata": {},
   "outputs": [],
   "source": [
    "sel_z=[]\n",
    "sel_E=[]\n",
    "sel_sigma=[]\n",
    "sel_events=[]\n",
    "no=0.0\n",
    "\n",
    "for i,event in enumerate (events):  \n",
    "    #if event!='Event1000':\n",
    "        for site in sites:\n",
    "\n",
    "            #if max_sigma[i] >0 and max_sigma[i]<=20.:\n",
    "            if '3sigma' in summed[event][site].keys():\n",
    "               \n",
    "                sel_z.append(z[i])\n",
    "                sel_E.append(Eiso[i])\n",
    "                sel_sigma.append(max_sigma[i])\n",
    "                sel_events.append(event)\n",
    "                #print(i,events[i],max_sigma[i])\n"
   ]
  },
  {
   "cell_type": "code",
   "execution_count": 25,
   "id": "c2f72f88",
   "metadata": {},
   "outputs": [
    {
     "name": "stdout",
     "output_type": "stream",
     "text": [
      "51.0\n",
      "1.1590909090909092\n"
     ]
    }
   ],
   "source": [
    "sel_z=np.array(sel_z)\n",
    "sel_E=np.array(sel_E)\n",
    "for i in range(len(max_sigma)):\n",
    "    #print(i,max_sigma[i])\n",
    "    if max_sigma[i]==0.0:\n",
    "        no=no+1\n",
    "print (len(events)-no)\n",
    "print ((len(events)-no)/44.)"
   ]
  },
  {
   "cell_type": "code",
   "execution_count": 26,
   "id": "35bd7a47",
   "metadata": {},
   "outputs": [
    {
     "name": "stdout",
     "output_type": "stream",
     "text": [
      "4\n"
     ]
    }
   ],
   "source": [
    "print (len(sel_sigma))"
   ]
  },
  {
   "cell_type": "code",
   "execution_count": 27,
   "id": "f1db1b29",
   "metadata": {},
   "outputs": [
    {
     "name": "stdout",
     "output_type": "stream",
     "text": [
      "0.09090909090909091\n"
     ]
    }
   ],
   "source": [
    "print (len(sel_sigma)/44.)"
   ]
  },
  {
   "cell_type": "code",
   "execution_count": 28,
   "id": "1e62bc4c",
   "metadata": {},
   "outputs": [
    {
     "name": "stdout",
     "output_type": "stream",
     "text": [
      "10.58\n",
      "0 Event1 10.58\n"
     ]
    }
   ],
   "source": [
    "maximum = max(max_sigma)\n",
    "print(maximum)\n",
    "for i in range(len(max_sigma)):\n",
    "    if max_sigma[i]== maximum:\n",
    "        print (i,events[i], max_sigma[i])\n",
    "    "
   ]
  },
  {
   "cell_type": "code",
   "execution_count": 29,
   "id": "63acbd06",
   "metadata": {},
   "outputs": [
    {
     "name": "stdout",
     "output_type": "stream",
     "text": [
      "0 Event1 10.58\n",
      "1 Event69 5.4\n",
      "2 Event79 7.43\n",
      "3 Event84 4.88\n"
     ]
    }
   ],
   "source": [
    "# questo blocco serve solo per selezionare il valore di sel_sigma da cui creare la \n",
    "#legenda in modo che non faccia schifo \n",
    "for i in range(len(sel_sigma)):\n",
    "    #if sel_sigma[i]!=0.0:\n",
    "        print (i,sel_events[i],sel_sigma[i])"
   ]
  },
  {
   "cell_type": "code",
   "execution_count": 31,
   "id": "08f84626",
   "metadata": {},
   "outputs": [
    {
     "data": {
      "text/plain": [
       "['North']"
      ]
     },
     "execution_count": 31,
     "metadata": {},
     "output_type": "execute_result"
    }
   ],
   "source": [
    "size  = 100*np.log10(sel_sigma)**2\n",
    "color = cm.cool(np.log10(sel_sigma)/np.max(np.log10(sel_sigma)))\n",
    "sites"
   ]
  },
  {
   "cell_type": "code",
   "execution_count": 33,
   "id": "c5518223",
   "metadata": {
    "scrolled": true
   },
   "outputs": [
    {
     "data": {
      "image/png": "[encoded data removed]",
      "text/plain": [
       "<Figure size 432x432 with 1 Axes>"
      ]
     },
     "metadata": {
      "needs_background": "light"
     },
     "output_type": "display_data"
    }
   ],
   "source": [
    "for site in sites:\n",
    "    \n",
    "    fig, axes = plt.subplots(1,figsize=(6,6)); #figsize=(6,6)\n",
    "    axes.scatter(z,Eiso,s=1.5,color='black',label='all')\n",
    "    axes.scatter(sel_z, sel_E, s=size, color=color, alpha=0.7)\n",
    "    #la prossima riga serve solo perchè la legenda sia esteticamente bella\n",
    "   # axes.scatter(sel_z[21], sel_E[21], s=size[21], color=color[21], alpha=0.7, label=r'$\\sigma_{max}$')\n",
    "    axes.scatter(0.42,3e53, marker ='*', color = 'red', label='GRB190114C')\n",
    "    if site == 'South':\n",
    "        axes.scatter(0.65,6e53, marker ='*', color = 'green', label='GRB180720B')\n",
    "        axes.scatter(0.0785,1e50, marker ='*', color = 'orange', label='GRB190829A')\n",
    "    axes.set_yscale('log')\n",
    "    axes.set_xlim(-0.1,5.4)\n",
    "    #axes.set_ylim(0.5e51,5e55)\n",
    "    axes.set_xlabel('Redshift (z)')\n",
    "    axes.set_ylabel(r'$\\log_{10}E_{iso}$')\n",
    "    axes.text(np.mean(z),np.mean(Eiso), \"Preliminary\",horizontalalignment='center',verticalalignment='center', fontsize=50, rotation = 45,alpha=0.4)\n",
    "    axes.set_title(f'{site}-{moon_condition}-th{alt_thresh}')\n",
    "    axes.legend()\n",
    "\n",
    "    plt.savefig(f'examples/Significance-{site}-{moon_condition}-th{alt_thresh}-3sigma.png',dpi=72)\n",
    "    plt.show()"
   ]
  },
  {
   "cell_type": "markdown",
   "id": "e1537c54",
   "metadata": {},
   "source": [
    "Valutare se sia o meno il caso di ridurre il numero di eventi colorati scegliendo di rappresentare in questo modo solo quelli con sigma superiore a 3"
   ]
  },
  {
   "cell_type": "markdown",
   "id": "c7876fb3",
   "metadata": {},
   "source": [
    "# Analisi distribuzione sigma \n",
    "Serve sperabilmente a capire dove andare a parare per risolvere gli errori"
   ]
  },
  {
   "cell_type": "code",
   "execution_count": 22,
   "id": "f3e7ce22",
   "metadata": {},
   "outputs": [
    {
     "data": {
      "image/png": "[encoded data removed]",
      "text/plain": [
       "<Figure size 432x288 with 1 Axes>"
      ]
     },
     "metadata": {
      "needs_background": "light"
     },
     "output_type": "display_data"
    }
   ],
   "source": [
    "weights= np.ones(len(max_sigma)) / len(max_sigma)\n",
    "plt.hist(max_sigma, weights=weights, color='#607c8e')#, rwidth=0.7 )\n",
    "plt.show()"
   ]
  },
  {
   "cell_type": "code",
   "execution_count": 23,
   "id": "23925790",
   "metadata": {},
   "outputs": [
    {
     "data": {
      "image/png": "[encoded data removed]",
      "text/plain": [
       "<Figure size 432x288 with 1 Axes>"
      ]
     },
     "metadata": {
      "needs_background": "light"
     },
     "output_type": "display_data"
    }
   ],
   "source": [
    "s=[]\n",
    "for sigma in max_sigma:\n",
    "    if sigma < 100 and sigma > 0:\n",
    "        s.append(sigma)\n",
    "plt.hist(s, bins=10,)\n",
    "plt.show()"
   ]
  },
  {
   "cell_type": "code",
   "execution_count": null,
   "id": "0380fbb1",
   "metadata": {},
   "outputs": [],
   "source": []
  }
 ],
 "metadata": {
  "kernelspec": {
   "display_name": "Python 3 (ipykernel)",
   "language": "python",
   "name": "python3"
  },
  "language_info": {
   "codemirror_mode": {
    "name": "ipython",
    "version": 3
   },
   "file_extension": ".py",
   "mimetype": "text/x-python",
   "name": "python",
   "nbconvert_exporter": "python",
   "pygments_lexer": "ipython3",
   "version": "3.9.6"
  }
 },
 "nbformat": 4,
 "nbformat_minor": 5
}
