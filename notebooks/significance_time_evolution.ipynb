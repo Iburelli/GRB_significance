{
 "cells": [
  {
   "cell_type": "code",
   "execution_count": 1,
   "id": "71082ff8",
   "metadata": {},
   "outputs": [],
   "source": [
    "from matplotlib import pyplot as plt\n",
    "from matplotlib.lines import Line2D\n",
    "import numpy as np\n"
   ]
  },
  {
   "cell_type": "code",
   "execution_count": 3,
   "id": "5272aa72",
   "metadata": {},
   "outputs": [],
   "source": [
    "data= np.load('/home/irene/github/ctools/notebooks/examples/Evt751.iterations.noMoon.thresh10.npy', allow_pickle=True, encoding='latin1', fix_imports=True).flat[0]\n",
    "events = list(data.keys())\n",
    "sites = list(data[events[0]].keys())\n"
   ]
  },
  {
   "cell_type": "code",
   "execution_count": 4,
   "id": "b12f6f5b",
   "metadata": {},
   "outputs": [],
   "source": [
    "custom_lines = [Line2D([0], [0], color='red', lw=4, alpha=0.3),\n",
    "                Line2D([0], [0], color='yellow', lw=4,alpha=0.3),\n",
    "                Line2D([0], [0], color='green', lw=4,alpha=0.3)]"
   ]
  },
  {
   "cell_type": "code",
   "execution_count": 1,
   "id": "66fb4eab",
   "metadata": {},
   "outputs": [
    {
     "ename": "NameError",
     "evalue": "name 'events' is not defined",
     "output_type": "error",
     "traceback": [
      "\u001B[0;31m---------------------------------------------------------------------------\u001B[0m",
      "\u001B[0;31mNameError\u001B[0m                                 Traceback (most recent call last)",
      "\u001B[0;32m<ipython-input-1-2b8ed2816fa4>\u001B[0m in \u001B[0;36m<module>\u001B[0;34m\u001B[0m\n\u001B[0;32m----> 1\u001B[0;31m \u001B[0;32mfor\u001B[0m \u001B[0mevent\u001B[0m \u001B[0;32min\u001B[0m \u001B[0mevents\u001B[0m\u001B[0;34m:\u001B[0m\u001B[0;34m\u001B[0m\u001B[0;34m\u001B[0m\u001B[0m\n\u001B[0m\u001B[1;32m      2\u001B[0m         \u001B[0;32mfor\u001B[0m \u001B[0msite\u001B[0m \u001B[0;32min\u001B[0m \u001B[0msites\u001B[0m\u001B[0;34m:\u001B[0m\u001B[0;34m\u001B[0m\u001B[0;34m\u001B[0m\u001B[0m\n\u001B[1;32m      3\u001B[0m                 \u001B[0;32mfor\u001B[0m \u001B[0mnight\u001B[0m \u001B[0;32min\u001B[0m \u001B[0mdata\u001B[0m\u001B[0;34m[\u001B[0m\u001B[0mevent\u001B[0m\u001B[0;34m]\u001B[0m\u001B[0;34m[\u001B[0m\u001B[0msite\u001B[0m\u001B[0;34m]\u001B[0m\u001B[0;34m:\u001B[0m\u001B[0;34m\u001B[0m\u001B[0;34m\u001B[0m\u001B[0m\n\u001B[1;32m      4\u001B[0m                         \u001B[0mcolor_min\u001B[0m \u001B[0;34m=\u001B[0m \u001B[0mmin\u001B[0m\u001B[0;34m(\u001B[0m\u001B[0mdata\u001B[0m\u001B[0;34m[\u001B[0m\u001B[0mevent\u001B[0m\u001B[0;34m]\u001B[0m\u001B[0;34m[\u001B[0m\u001B[0msite\u001B[0m\u001B[0;34m]\u001B[0m\u001B[0;34m[\u001B[0m\u001B[0mnight\u001B[0m\u001B[0;34m]\u001B[0m\u001B[0;34m[\u001B[0m\u001B[0;34m'significance'\u001B[0m\u001B[0;34m]\u001B[0m\u001B[0;34m)\u001B[0m \u001B[0;34m-\u001B[0m \u001B[0mmax\u001B[0m\u001B[0;34m(\u001B[0m\u001B[0mdata\u001B[0m\u001B[0;34m[\u001B[0m\u001B[0mevent\u001B[0m\u001B[0;34m]\u001B[0m\u001B[0;34m[\u001B[0m\u001B[0msite\u001B[0m\u001B[0;34m]\u001B[0m\u001B[0;34m[\u001B[0m\u001B[0mnight\u001B[0m\u001B[0;34m]\u001B[0m\u001B[0;34m[\u001B[0m\u001B[0;34m'variance'\u001B[0m\u001B[0;34m]\u001B[0m\u001B[0;34m)\u001B[0m\u001B[0;34m\u001B[0m\u001B[0;34m\u001B[0m\u001B[0m\n\u001B[1;32m      5\u001B[0m                         \u001B[0mcolor_max\u001B[0m \u001B[0;34m=\u001B[0m \u001B[0mmax\u001B[0m\u001B[0;34m(\u001B[0m\u001B[0mdata\u001B[0m\u001B[0;34m[\u001B[0m\u001B[0mevent\u001B[0m\u001B[0;34m]\u001B[0m\u001B[0;34m[\u001B[0m\u001B[0msite\u001B[0m\u001B[0;34m]\u001B[0m\u001B[0;34m[\u001B[0m\u001B[0mnight\u001B[0m\u001B[0;34m]\u001B[0m\u001B[0;34m[\u001B[0m\u001B[0;34m'significance'\u001B[0m\u001B[0;34m]\u001B[0m\u001B[0;34m)\u001B[0m \u001B[0;34m+\u001B[0m \u001B[0mmax\u001B[0m\u001B[0;34m(\u001B[0m\u001B[0mdata\u001B[0m\u001B[0;34m[\u001B[0m\u001B[0mevent\u001B[0m\u001B[0;34m]\u001B[0m\u001B[0;34m[\u001B[0m\u001B[0msite\u001B[0m\u001B[0;34m]\u001B[0m\u001B[0;34m[\u001B[0m\u001B[0mnight\u001B[0m\u001B[0;34m]\u001B[0m\u001B[0;34m[\u001B[0m\u001B[0;34m'variance'\u001B[0m\u001B[0;34m]\u001B[0m\u001B[0;34m)\u001B[0m\u001B[0;34m\u001B[0m\u001B[0;34m\u001B[0m\u001B[0m\n",
      "\u001B[0;31mNameError\u001B[0m: name 'events' is not defined"
     ]
    }
   ],
   "source": [
    "for event in events:\n",
    "        for site in sites:\n",
    "                for night in data[event][site]:\n",
    "                        color_min = min(data[event][site][night]['significance']) - max(data[event][site][night]['variance'])\n",
    "                        color_max = max(data[event][site][night]['significance']) + max(data[event][site][night]['variance'])\n",
    "                        fig, axes = plt.subplots(1 ,figsize=(12,6))\n",
    "                        for i in range(len(data[event][site][night]['irf'])):\n",
    "                            t_start= data[event][site][night]['t_start'][i]\n",
    "                            t_stop = data[event][site][night]['t_stop'][i]\n",
    "                            if data[event][site][night]['irf'][i].endswith('0.5h'):\n",
    "                                a=0.1                                \n",
    "                            elif data[event][site][night]['irf'][i].endswith('5h'):\n",
    "                                a= 0.2                                \n",
    "                            elif data[event][site][night]['irf'][i].endswith('50h'):\n",
    "                                a=0.3\n",
    "                               \n",
    "                            if 'z20' in data[event][site][night]['irf'][i]:                             \n",
    "                                axes.fill_between([t_start,t_stop], color_min, color_max, color='red', alpha=a, label=f'IRF z20')\n",
    "                            elif 'z40' in data[event][site][night]['irf'][i]:                               \n",
    "                                axes.fill_between([t_start,t_stop], color_min, color_max, color='yellow', alpha=a, label='IRF z40')\n",
    "                            elif 'z60' in data[event][site][night]['irf'][i]:                                \n",
    "                                axes.fill_between([t_start,t_stop], color_min, color_max, color='green', alpha=a,label='IRF z60')\n",
    "\n",
    "                        axes.errorbar (data[event][site][night]['t_stop'], data[event][site][night]['significance'], yerr= data[event][site][night]['variance'], color='#607c8e',fmt='o')\n",
    "                        axes.set_xlabel(r'Time since \"explosion\"(s)')\n",
    "                        axes.set_ylabel(r'$\\sigma_{Li&Ma}$')\n",
    "                        axes.set_xscale('log')\n",
    "                        axes.legend(custom_lines, ['North_z20', 'North_z40', 'North_z60'])\n",
    "                        axes.set_title(f'{event} - {site} - {night}')\n",
    "                    \n",
    "\n",
    "\n",
    "\n",
    "plt.show()\n"
   ]
  },
  {
   "cell_type": "code",
   "execution_count": null,
   "id": "6f2e3952",
   "metadata": {},
   "outputs": [],
   "source": []
  }
 ],
 "metadata": {
  "kernelspec": {
   "display_name": "Python 3",
   "language": "python",
   "name": "python3"
  },
  "language_info": {
   "codemirror_mode": {
    "name": "ipython",
    "version": 3
   },
   "file_extension": ".py",
   "mimetype": "text/x-python",
   "name": "python",
   "nbconvert_exporter": "python",
   "pygments_lexer": "ipython3",
   "version": "3.8.6"
  }
 },
 "nbformat": 4,
 "nbformat_minor": 5
}