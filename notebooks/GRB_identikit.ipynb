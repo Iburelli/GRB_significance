{
 "cells": [
  {
   "cell_type": "markdown",
   "id": "38254c5e",
   "metadata": {},
   "source": [
    "# GRB identikit\n",
    "The aim of this notebook is to allow the user to have an overview of the event properties (redshift, energy, flux...)"
   ]
  },
  {
   "cell_type": "markdown",
   "id": "e3c0e96a",
   "metadata": {},
   "source": [
    "## Imports\n"
   ]
  },
  {
   "cell_type": "code",
   "execution_count": 1,
   "id": "6f61599d",
   "metadata": {},
   "outputs": [],
   "source": [
    "import sys\n",
    "import warnings\n",
    "import numpy as np\n",
    "import matplotlib.pyplot as plt\n",
    "import astropy.units as u\n",
    "import pandas as pd\n",
    "from astropy.visualization import astropy_mpl_style, quantity_support\n",
    "from astropy.time import Time\n",
    "from astropy.io import fits\n",
    "from astropy.table import Table\n",
    "from astropy.coordinates import SkyCoord\n",
    "from os.path import join\n",
    "sys.path.append('../lib')\n",
    "from visibility import *\n",
    "plt.style.use(astropy_mpl_style)\n",
    "quantity_support();"
   ]
  },
  {
   "cell_type": "markdown",
   "id": "71bf8ef0",
   "metadata": {},
   "source": [
    "## General info\n",
    "A table is given with GRB's general properties in csv format (this is a 're-formatted' verison of Giancarlo's txt table)"
   ]
  },
  {
   "cell_type": "code",
   "execution_count": 2,
   "id": "2f25bfaa",
   "metadata": {},
   "outputs": [],
   "source": [
    "df=pd.read_csv('table_1000_long.csv', index_col=0)"
   ]
  },
  {
   "cell_type": "code",
   "execution_count": 3,
   "id": "26084347",
   "metadata": {},
   "outputs": [
    {
     "data": {
      "text/html": [
       "<div>\n",
       "<style scoped>\n",
       "    .dataframe tbody tr th:only-of-type {\n",
       "        vertical-align: middle;\n",
       "    }\n",
       "\n",
       "    .dataframe tbody tr th {\n",
       "        vertical-align: top;\n",
       "    }\n",
       "\n",
       "    .dataframe thead th {\n",
       "        text-align: right;\n",
       "    }\n",
       "</style>\n",
       "<table border=\"1\" class=\"dataframe\">\n",
       "  <thead>\n",
       "    <tr style=\"text-align: right;\">\n",
       "      <th></th>\n",
       "      <th>Num</th>\n",
       "      <th>Ra</th>\n",
       "      <th>Dec</th>\n",
       "      <th>Redshift</th>\n",
       "      <th>Eiso</th>\n",
       "      <th>Liso</th>\n",
       "      <th>Epeak</th>\n",
       "      <th>Duration</th>\n",
       "      <th>Gamma0(H)</th>\n",
       "      <th>Gamma0(W)</th>\n",
       "      <th>Phflux(15-150)</th>\n",
       "      <th>alfa</th>\n",
       "      <th>beta</th>\n",
       "      <th>PhFlux(10-1000)</th>\n",
       "    </tr>\n",
       "  </thead>\n",
       "  <tbody>\n",
       "    <tr>\n",
       "      <th>0</th>\n",
       "      <td>1</td>\n",
       "      <td>211.3340</td>\n",
       "      <td>71.0714</td>\n",
       "      <td>2.358773</td>\n",
       "      <td>3.873160e+53</td>\n",
       "      <td>3.471493e+52</td>\n",
       "      <td>602.763363</td>\n",
       "      <td>108.845</td>\n",
       "      <td>153.147</td>\n",
       "      <td>96.239</td>\n",
       "      <td>3.370</td>\n",
       "      <td>-1.130</td>\n",
       "      <td>-2.380</td>\n",
       "      <td>4.820</td>\n",
       "    </tr>\n",
       "    <tr>\n",
       "      <th>1</th>\n",
       "      <td>2</td>\n",
       "      <td>82.4082</td>\n",
       "      <td>-23.5267</td>\n",
       "      <td>1.131562</td>\n",
       "      <td>1.684641e+53</td>\n",
       "      <td>1.130565e+52</td>\n",
       "      <td>396.028272</td>\n",
       "      <td>88.762</td>\n",
       "      <td>424.473</td>\n",
       "      <td>165.292</td>\n",
       "      <td>6.918</td>\n",
       "      <td>-1.049</td>\n",
       "      <td>-2.509</td>\n",
       "      <td>9.830</td>\n",
       "    </tr>\n",
       "    <tr>\n",
       "      <th>2</th>\n",
       "      <td>3</td>\n",
       "      <td>92.1914</td>\n",
       "      <td>35.9299</td>\n",
       "      <td>2.023389</td>\n",
       "      <td>5.181373e+53</td>\n",
       "      <td>1.973927e+52</td>\n",
       "      <td>560.332365</td>\n",
       "      <td>259.619</td>\n",
       "      <td>362.259</td>\n",
       "      <td>179.344</td>\n",
       "      <td>2.714</td>\n",
       "      <td>-0.955</td>\n",
       "      <td>-2.473</td>\n",
       "      <td>3.836</td>\n",
       "    </tr>\n",
       "    <tr>\n",
       "      <th>3</th>\n",
       "      <td>4</td>\n",
       "      <td>11.8900</td>\n",
       "      <td>42.4303</td>\n",
       "      <td>2.852917</td>\n",
       "      <td>7.321880e+52</td>\n",
       "      <td>3.195091e+52</td>\n",
       "      <td>278.800372</td>\n",
       "      <td>22.905</td>\n",
       "      <td>253.767</td>\n",
       "      <td>102.093</td>\n",
       "      <td>3.175</td>\n",
       "      <td>-0.930</td>\n",
       "      <td>-2.438</td>\n",
       "      <td>4.337</td>\n",
       "    </tr>\n",
       "    <tr>\n",
       "      <th>4</th>\n",
       "      <td>5</td>\n",
       "      <td>105.1957</td>\n",
       "      <td>-14.9235</td>\n",
       "      <td>2.944518</td>\n",
       "      <td>1.547294e+53</td>\n",
       "      <td>4.593979e+52</td>\n",
       "      <td>568.000476</td>\n",
       "      <td>53.856</td>\n",
       "      <td>220.795</td>\n",
       "      <td>105.403</td>\n",
       "      <td>3.439</td>\n",
       "      <td>-1.002</td>\n",
       "      <td>-2.689</td>\n",
       "      <td>4.748</td>\n",
       "    </tr>\n",
       "  </tbody>\n",
       "</table>\n",
       "</div>"
      ],
      "text/plain": [
       "   Num        Ra      Dec  Redshift          Eiso          Liso       Epeak  \\\n",
       "0    1  211.3340  71.0714  2.358773  3.873160e+53  3.471493e+52  602.763363   \n",
       "1    2   82.4082 -23.5267  1.131562  1.684641e+53  1.130565e+52  396.028272   \n",
       "2    3   92.1914  35.9299  2.023389  5.181373e+53  1.973927e+52  560.332365   \n",
       "3    4   11.8900  42.4303  2.852917  7.321880e+52  3.195091e+52  278.800372   \n",
       "4    5  105.1957 -14.9235  2.944518  1.547294e+53  4.593979e+52  568.000476   \n",
       "\n",
       "   Duration  Gamma0(H)  Gamma0(W)  Phflux(15-150)   alfa   beta  \\\n",
       "0   108.845    153.147     96.239           3.370 -1.130 -2.380   \n",
       "1    88.762    424.473    165.292           6.918 -1.049 -2.509   \n",
       "2   259.619    362.259    179.344           2.714 -0.955 -2.473   \n",
       "3    22.905    253.767    102.093           3.175 -0.930 -2.438   \n",
       "4    53.856    220.795    105.403           3.439 -1.002 -2.689   \n",
       "\n",
       "   PhFlux(10-1000)  \n",
       "0            4.820  \n",
       "1            9.830  \n",
       "2            3.836  \n",
       "3            4.337  \n",
       "4            4.748  "
      ]
     },
     "execution_count": 3,
     "metadata": {},
     "output_type": "execute_result"
    }
   ],
   "source": [
    "df.head()"
   ]
  },
  {
   "cell_type": "code",
   "execution_count": 4,
   "id": "ad9c8909",
   "metadata": {},
   "outputs": [
    {
     "data": {
      "text/html": [
       "<div>\n",
       "<style scoped>\n",
       "    .dataframe tbody tr th:only-of-type {\n",
       "        vertical-align: middle;\n",
       "    }\n",
       "\n",
       "    .dataframe tbody tr th {\n",
       "        vertical-align: top;\n",
       "    }\n",
       "\n",
       "    .dataframe thead th {\n",
       "        text-align: right;\n",
       "    }\n",
       "</style>\n",
       "<table border=\"1\" class=\"dataframe\">\n",
       "  <thead>\n",
       "    <tr style=\"text-align: right;\">\n",
       "      <th></th>\n",
       "      <th>Num</th>\n",
       "      <th>Ra</th>\n",
       "      <th>Dec</th>\n",
       "      <th>Redshift</th>\n",
       "      <th>Eiso</th>\n",
       "      <th>Liso</th>\n",
       "      <th>Epeak</th>\n",
       "      <th>Duration</th>\n",
       "      <th>Gamma0(H)</th>\n",
       "      <th>Gamma0(W)</th>\n",
       "      <th>Phflux(15-150)</th>\n",
       "      <th>alfa</th>\n",
       "      <th>beta</th>\n",
       "      <th>PhFlux(10-1000)</th>\n",
       "    </tr>\n",
       "  </thead>\n",
       "  <tbody>\n",
       "    <tr>\n",
       "      <th>618</th>\n",
       "      <td>619</td>\n",
       "      <td>184.7983</td>\n",
       "      <td>-36.0448</td>\n",
       "      <td>0.737209</td>\n",
       "      <td>1.067603e+50</td>\n",
       "      <td>1.495638e+51</td>\n",
       "      <td>13.900669</td>\n",
       "      <td>0.686</td>\n",
       "      <td>42.934</td>\n",
       "      <td>10.516</td>\n",
       "      <td>3.440</td>\n",
       "      <td>-1.008</td>\n",
       "      <td>-2.559</td>\n",
       "      <td>6.623</td>\n",
       "    </tr>\n",
       "    <tr>\n",
       "      <th>413</th>\n",
       "      <td>414</td>\n",
       "      <td>94.4073</td>\n",
       "      <td>-65.4611</td>\n",
       "      <td>0.391341</td>\n",
       "      <td>3.087096e+50</td>\n",
       "      <td>3.486320e+50</td>\n",
       "      <td>24.805385</td>\n",
       "      <td>4.110</td>\n",
       "      <td>45.667</td>\n",
       "      <td>13.079</td>\n",
       "      <td>4.764</td>\n",
       "      <td>-0.954</td>\n",
       "      <td>-2.357</td>\n",
       "      <td>7.846</td>\n",
       "    </tr>\n",
       "    <tr>\n",
       "      <th>34</th>\n",
       "      <td>35</td>\n",
       "      <td>25.3093</td>\n",
       "      <td>-23.7438</td>\n",
       "      <td>1.099097</td>\n",
       "      <td>5.159761e+50</td>\n",
       "      <td>5.085106e+51</td>\n",
       "      <td>51.931694</td>\n",
       "      <td>0.527</td>\n",
       "      <td>251.545</td>\n",
       "      <td>44.441</td>\n",
       "      <td>7.020</td>\n",
       "      <td>-0.985</td>\n",
       "      <td>-2.600</td>\n",
       "      <td>10.887</td>\n",
       "    </tr>\n",
       "    <tr>\n",
       "      <th>978</th>\n",
       "      <td>979</td>\n",
       "      <td>172.7977</td>\n",
       "      <td>-79.2703</td>\n",
       "      <td>0.638567</td>\n",
       "      <td>7.600981e+50</td>\n",
       "      <td>9.976745e+50</td>\n",
       "      <td>41.118605</td>\n",
       "      <td>4.046</td>\n",
       "      <td>274.725</td>\n",
       "      <td>50.274</td>\n",
       "      <td>4.649</td>\n",
       "      <td>-1.160</td>\n",
       "      <td>-2.485</td>\n",
       "      <td>7.253</td>\n",
       "    </tr>\n",
       "    <tr>\n",
       "      <th>25</th>\n",
       "      <td>26</td>\n",
       "      <td>351.7934</td>\n",
       "      <td>-39.6616</td>\n",
       "      <td>0.369044</td>\n",
       "      <td>7.618883e+50</td>\n",
       "      <td>3.670657e+50</td>\n",
       "      <td>54.108139</td>\n",
       "      <td>10.022</td>\n",
       "      <td>158.370</td>\n",
       "      <td>34.836</td>\n",
       "      <td>6.278</td>\n",
       "      <td>-0.926</td>\n",
       "      <td>-2.413</td>\n",
       "      <td>9.019</td>\n",
       "    </tr>\n",
       "    <tr>\n",
       "      <th>...</th>\n",
       "      <td>...</td>\n",
       "      <td>...</td>\n",
       "      <td>...</td>\n",
       "      <td>...</td>\n",
       "      <td>...</td>\n",
       "      <td>...</td>\n",
       "      <td>...</td>\n",
       "      <td>...</td>\n",
       "      <td>...</td>\n",
       "      <td>...</td>\n",
       "      <td>...</td>\n",
       "      <td>...</td>\n",
       "      <td>...</td>\n",
       "      <td>...</td>\n",
       "    </tr>\n",
       "    <tr>\n",
       "      <th>765</th>\n",
       "      <td>766</td>\n",
       "      <td>30.5821</td>\n",
       "      <td>-12.6434</td>\n",
       "      <td>1.940603</td>\n",
       "      <td>6.575459e+54</td>\n",
       "      <td>4.374073e+52</td>\n",
       "      <td>1572.784388</td>\n",
       "      <td>1759.781</td>\n",
       "      <td>670.904</td>\n",
       "      <td>413.074</td>\n",
       "      <td>3.292</td>\n",
       "      <td>-1.071</td>\n",
       "      <td>-2.503</td>\n",
       "      <td>5.274</td>\n",
       "    </tr>\n",
       "    <tr>\n",
       "      <th>756</th>\n",
       "      <td>757</td>\n",
       "      <td>246.3766</td>\n",
       "      <td>-2.8586</td>\n",
       "      <td>1.397700</td>\n",
       "      <td>7.492617e+54</td>\n",
       "      <td>4.359983e+52</td>\n",
       "      <td>1085.365386</td>\n",
       "      <td>849.029</td>\n",
       "      <td>1213.903</td>\n",
       "      <td>626.847</td>\n",
       "      <td>7.867</td>\n",
       "      <td>-1.072</td>\n",
       "      <td>-2.384</td>\n",
       "      <td>12.354</td>\n",
       "    </tr>\n",
       "    <tr>\n",
       "      <th>784</th>\n",
       "      <td>785</td>\n",
       "      <td>80.1508</td>\n",
       "      <td>-57.8066</td>\n",
       "      <td>2.107246</td>\n",
       "      <td>1.187253e+55</td>\n",
       "      <td>6.535604e+53</td>\n",
       "      <td>3724.799912</td>\n",
       "      <td>178.472</td>\n",
       "      <td>734.539</td>\n",
       "      <td>484.210</td>\n",
       "      <td>19.718</td>\n",
       "      <td>-1.029</td>\n",
       "      <td>-2.541</td>\n",
       "      <td>34.829</td>\n",
       "    </tr>\n",
       "    <tr>\n",
       "      <th>211</th>\n",
       "      <td>212</td>\n",
       "      <td>339.6022</td>\n",
       "      <td>-15.4391</td>\n",
       "      <td>1.922033</td>\n",
       "      <td>1.396238e+55</td>\n",
       "      <td>9.247220e+53</td>\n",
       "      <td>23172.692295</td>\n",
       "      <td>99.376</td>\n",
       "      <td>1582.178</td>\n",
       "      <td>829.717</td>\n",
       "      <td>5.550</td>\n",
       "      <td>-0.941</td>\n",
       "      <td>-2.618</td>\n",
       "      <td>11.373</td>\n",
       "    </tr>\n",
       "    <tr>\n",
       "      <th>31</th>\n",
       "      <td>32</td>\n",
       "      <td>160.3707</td>\n",
       "      <td>39.2085</td>\n",
       "      <td>2.830574</td>\n",
       "      <td>1.365003e+56</td>\n",
       "      <td>1.172778e+55</td>\n",
       "      <td>25186.994736</td>\n",
       "      <td>124.929</td>\n",
       "      <td>666.794</td>\n",
       "      <td>681.999</td>\n",
       "      <td>44.316</td>\n",
       "      <td>-1.039</td>\n",
       "      <td>-2.414</td>\n",
       "      <td>84.464</td>\n",
       "    </tr>\n",
       "  </tbody>\n",
       "</table>\n",
       "<p>1000 rows × 14 columns</p>\n",
       "</div>"
      ],
      "text/plain": [
       "     Num        Ra      Dec  Redshift          Eiso          Liso  \\\n",
       "618  619  184.7983 -36.0448  0.737209  1.067603e+50  1.495638e+51   \n",
       "413  414   94.4073 -65.4611  0.391341  3.087096e+50  3.486320e+50   \n",
       "34    35   25.3093 -23.7438  1.099097  5.159761e+50  5.085106e+51   \n",
       "978  979  172.7977 -79.2703  0.638567  7.600981e+50  9.976745e+50   \n",
       "25    26  351.7934 -39.6616  0.369044  7.618883e+50  3.670657e+50   \n",
       "..   ...       ...      ...       ...           ...           ...   \n",
       "765  766   30.5821 -12.6434  1.940603  6.575459e+54  4.374073e+52   \n",
       "756  757  246.3766  -2.8586  1.397700  7.492617e+54  4.359983e+52   \n",
       "784  785   80.1508 -57.8066  2.107246  1.187253e+55  6.535604e+53   \n",
       "211  212  339.6022 -15.4391  1.922033  1.396238e+55  9.247220e+53   \n",
       "31    32  160.3707  39.2085  2.830574  1.365003e+56  1.172778e+55   \n",
       "\n",
       "            Epeak  Duration  Gamma0(H)  Gamma0(W)  Phflux(15-150)   alfa  \\\n",
       "618     13.900669     0.686     42.934     10.516           3.440 -1.008   \n",
       "413     24.805385     4.110     45.667     13.079           4.764 -0.954   \n",
       "34      51.931694     0.527    251.545     44.441           7.020 -0.985   \n",
       "978     41.118605     4.046    274.725     50.274           4.649 -1.160   \n",
       "25      54.108139    10.022    158.370     34.836           6.278 -0.926   \n",
       "..            ...       ...        ...        ...             ...    ...   \n",
       "765   1572.784388  1759.781    670.904    413.074           3.292 -1.071   \n",
       "756   1085.365386   849.029   1213.903    626.847           7.867 -1.072   \n",
       "784   3724.799912   178.472    734.539    484.210          19.718 -1.029   \n",
       "211  23172.692295    99.376   1582.178    829.717           5.550 -0.941   \n",
       "31   25186.994736   124.929    666.794    681.999          44.316 -1.039   \n",
       "\n",
       "      beta  PhFlux(10-1000)  \n",
       "618 -2.559            6.623  \n",
       "413 -2.357            7.846  \n",
       "34  -2.600           10.887  \n",
       "978 -2.485            7.253  \n",
       "25  -2.413            9.019  \n",
       "..     ...              ...  \n",
       "765 -2.503            5.274  \n",
       "756 -2.384           12.354  \n",
       "784 -2.541           34.829  \n",
       "211 -2.618           11.373  \n",
       "31  -2.414           84.464  \n",
       "\n",
       "[1000 rows x 14 columns]"
      ]
     },
     "execution_count": 4,
     "metadata": {},
     "output_type": "execute_result"
    }
   ],
   "source": [
    "df.sort_values('Eiso')"
   ]
  },
  {
   "cell_type": "code",
   "execution_count": 5,
   "id": "dc6d44ab",
   "metadata": {},
   "outputs": [
    {
     "name": "stdout",
     "output_type": "stream",
     "text": [
      "118 1.9068725702151728 9.590404844058931e+52\n",
      "161 1.001615747060123 9.563534061691005e+52\n",
      "244 1.1784073069272898 9.7788077511508e+52\n",
      "262 2.602684246797491 9.615699602082197e+52\n",
      "372 2.0845663136439505 9.972210993794282e+52\n",
      "413 1.727189558472224 9.766376028377358e+52\n",
      "538 1.3790455881934067 9.837619633912612e+52\n",
      "547 2.047380320695224 9.583338906146495e+52\n",
      "875 1.9607503662822507 9.90195397010408e+52\n",
      "991 0.8734011464207019 9.548340826637492e+52\n"
     ]
    }
   ],
   "source": [
    "for i in range(len(df.Num)):\n",
    "    if df.Eiso[i]>9.5e52 and df.Eiso[i]<1e53:\n",
    "        print (df.Num[i],df.Redshift[i],df.Eiso[i])"
   ]
  },
  {
   "cell_type": "markdown",
   "id": "0479bff0",
   "metadata": {},
   "source": [
    "### Chosing the Event to study"
   ]
  },
  {
   "cell_type": "code",
   "execution_count": 6,
   "id": "feff1aae",
   "metadata": {},
   "outputs": [],
   "source": [
    "event_number = 12\n",
    "event_id= f'Event{event_number}'  #name of the event you want to plot (usefull when using catalog tables of significance)\n",
    "phase = 'afterglow'"
   ]
  },
  {
   "cell_type": "code",
   "execution_count": 7,
   "id": "5fdd7321",
   "metadata": {},
   "outputs": [
    {
     "data": {
      "text/plain": [
       "Num                1.200000e+01\n",
       "Ra                 2.866209e+02\n",
       "Dec               -2.048380e+01\n",
       "Redshift           1.288574e+00\n",
       "Eiso               2.081790e+53\n",
       "Liso               2.379591e+52\n",
       "Epeak              7.821273e+02\n",
       "Duration           6.881000e+01\n",
       "Gamma0(H)          1.502650e+02\n",
       "Gamma0(W)          8.568600e+01\n",
       "Phflux(15-150)     6.687000e+00\n",
       "alfa              -1.060000e+00\n",
       "beta              -2.457000e+00\n",
       "PhFlux(10-1000)    1.016000e+01\n",
       "Name: 11, dtype: float64"
      ]
     },
     "execution_count": 7,
     "metadata": {},
     "output_type": "execute_result"
    }
   ],
   "source": [
    "evt_details = df.loc[event_number-1] # per localizzare un evento devo dare il numero di riga. \n",
    "evt_details                          # ricordati che le righe partono da 0, gli eventi da 1"
   ]
  },
  {
   "cell_type": "markdown",
   "id": "f04f4885",
   "metadata": {},
   "source": [
    "N.B. the same properties can be read from fits file. Here you are an example:"
   ]
  },
  {
   "cell_type": "code",
   "execution_count": 8,
   "id": "6c66f0ed",
   "metadata": {},
   "outputs": [],
   "source": [
    "hdul = fits.open(f'/home/irene/cta/input/afterglow/{event_id}.fits') \n",
    "hdr = hdul[0].header\n",
    "z = hdr['z']\n",
    "Eiso = hdr ['EISO']\n",
    "t_trigger = Time(hdr['GRBJD'] * u.day, format='jd')"
   ]
  },
  {
   "cell_type": "markdown",
   "id": "bb1133e0",
   "metadata": {},
   "source": [
    "While fits file is open we read some quantities which will be useful later to compute visibility"
   ]
  },
  {
   "cell_type": "code",
   "execution_count": 9,
   "id": "f12f7d2f",
   "metadata": {},
   "outputs": [],
   "source": [
    "source_radec = SkyCoord(ra=hdr['RA'] * u.deg, dec=hdr['DEC'] * u.deg, frame='icrs')  # source coordinates\n",
    "visibility_table = Table.read(hdul, hdu=1)  # visibility table"
   ]
  },
  {
   "cell_type": "code",
   "execution_count": 10,
   "id": "a3fb5e90",
   "metadata": {},
   "outputs": [
    {
     "name": "stdout",
     "output_type": "stream",
     "text": [
      "Reshift: 1.28857387087\n",
      "Eiso: 2.08179029849e+53\n",
      "trigger time: 2022-05-27T04:35:08.485\n"
     ]
    }
   ],
   "source": [
    "print (f'Reshift: {z}')\n",
    "print (f'Eiso: {Eiso}')\n",
    "print (f'trigger time: {t_trigger.isot}')"
   ]
  },
  {
   "cell_type": "markdown",
   "id": "0c7255f4",
   "metadata": {},
   "source": [
    "# Flux "
   ]
  },
  {
   "cell_type": "code",
   "execution_count": 11,
   "id": "b6f22832",
   "metadata": {},
   "outputs": [],
   "source": [
    "# reading Energy from Lara's files. \n",
    "grb_Eval     = Table.read(hdul,hdu=2)[\"Energies (afterglow)\"].quantity\n",
    "# reading time intervals form Lara's files\n",
    "grb_tval     = Table.read(hdul,hdu=3)[\"Times (afterglow)\"].quantity "
   ]
  },
  {
   "cell_type": "code",
   "execution_count": 12,
   "id": "b67d9d35",
   "metadata": {},
   "outputs": [],
   "source": [
    "flux         = Table.read(hdul,hdu=4)\n",
    "abs_flux     = Table.read(hdul,hdu=5)"
   ]
  },
  {
   "cell_type": "code",
   "execution_count": 13,
   "id": "40b54a94",
   "metadata": {},
   "outputs": [],
   "source": [
    "flux_unit = u.Unit(\"1 /(cm2 GeV s)\")"
   ]
  },
  {
   "cell_type": "code",
   "execution_count": 14,
   "id": "5eb22db0",
   "metadata": {},
   "outputs": [],
   "source": [
    "icol_t  = len(abs_flux.colnames)              # column number - time\n",
    "jrow_E  = len(abs_flux[abs_flux.colnames[0]]) # row number\n",
    "# Note the transposition from flux to fluxval\n",
    "\n",
    "# ABSORBED\n",
    "grb_fluxval_abs = np.zeros( (icol_t,jrow_E) )*flux_unit\n",
    "for i in range(0,icol_t):\n",
    "    for j in range(0,jrow_E):\n",
    "        f = abs_flux[j][i]    # Lara's values are in units of 1/(GeV cm2 s)\n",
    "        grb_fluxval_abs[i][j] = f*flux_unit # transp!\n",
    "\n",
    "# TRUE\n",
    "grb_fluxval = np.zeros( (icol_t,jrow_E) )*flux_unit\n",
    "for i in range(0,icol_t):\n",
    "    for j in range(0,jrow_E):\n",
    "        f = flux[j][i] \n",
    "        grb_fluxval[i][j] = f*flux_unit # transp!"
   ]
  },
  {
   "cell_type": "code",
   "execution_count": 15,
   "id": "47e2a8ea",
   "metadata": {},
   "outputs": [],
   "source": [
    "f_time=[]\n",
    "f_nonabs=[]\n",
    "for i in range(0,icol_t):\n",
    "    #print (grb_fluxval_abs[i].value.sum())\n",
    "    f_time.append(grb_fluxval_abs[i].value.sum())\n",
    "    f_nonabs.append(grb_fluxval[i].value.sum())"
   ]
  },
  {
   "cell_type": "code",
   "execution_count": 16,
   "id": "b2a6d36c",
   "metadata": {},
   "outputs": [
    {
     "data": {
      "image/png": "[encoded data removed]",
      "text/plain": [
       "<Figure size 864x432 with 1 Axes>"
      ]
     },
     "metadata": {},
     "output_type": "display_data"
    }
   ],
   "source": [
    "fig, axes = plt.subplots(1 ,figsize=(12,6))\n",
    "axes.scatter(grb_tval.value, f_time, color='#607c8e', label = 'absorbed')\n",
    "#axes.scatter(grb_tval.value, f_nonabs, color='orange',marker = '*', label='non absorbed')\n",
    "axes.set_xlabel(r'time (s)')\n",
    "axes.set_ylabel(r'flux $(GeV cm^2 s)^{-1}$')\n",
    "#axes.set_xlim(-1e2,1e3)\n",
    "#axes.set_ylim(1e-7,1e-6)\n",
    "axes.set_yscale('log')\n",
    "axes.legend()\n",
    "axes.set_title(f'flux vs time {event_id}')\n",
    "plt.savefig(f\"examples/Flux_GeV_{event_id}.png\", dpi=72)\n",
    "plt.show()"
   ]
  },
  {
   "cell_type": "markdown",
   "id": "5a5a685b",
   "metadata": {},
   "source": [
    "# Visibility\n",
    "This part is taken from Ambra's notebook 'plotVisibility'"
   ]
  },
  {
   "cell_type": "code",
   "execution_count": 17,
   "id": "29781bfa",
   "metadata": {},
   "outputs": [
    {
     "data": {
      "text/plain": [
       "({'night01': {'start': 2459726.69107043,\n",
       "   'stop': 2459726.69681865,\n",
       "   'irfs': {'start': array([2459726.69107043]),\n",
       "    'stop': array([2459726.69681865]),\n",
       "    'zref': array([40])}},\n",
       "  'night02': {'start': 2459727.39892427,\n",
       "   'stop': 2459727.69646319,\n",
       "   'irfs': {'start': array([2459727.53848457, 2459727.60132789]),\n",
       "    'stop': array([2459727.60132789, 2459727.69646319]),\n",
       "    'zref': array([60, 40])}},\n",
       "  'night03': {'start': 2459728.39944763,\n",
       "   'stop': 2459728.69612071,\n",
       "   'irfs': {'start': array([2459728.53560687, 2459728.5979373 ]),\n",
       "    'stop': array([2459728.5979373 , 2459728.69612071]),\n",
       "    'zref': array([60, 40])}}},\n",
       " {'night01': {'start': 2459726.69107043,\n",
       "   'stop': 2459726.91383418,\n",
       "   'irfs': {'start': array([2459726.69107043, 2459726.71409471]),\n",
       "    'stop': array([2459726.71409471, 2459726.91383418]),\n",
       "    'zref': array([40, 20])}},\n",
       "  'night02': {'start': 2459727.47330667,\n",
       "   'stop': 2459727.91409663,\n",
       "   'irfs': {'start': array([2459727.60985915, 2459727.64705253, 2459727.71135607]),\n",
       "    'stop': array([2459727.64705253, 2459727.71135607, 2459727.91409663]),\n",
       "    'zref': array([60, 40, 20])}},\n",
       "  'night03': {'start': 2459728.47322164,\n",
       "   'stop': 2459728.80910307,\n",
       "   'irfs': {'start': array([2459728.6071519 , 2459728.6443604 , 2459728.70864177]),\n",
       "    'stop': array([2459728.6443604 , 2459728.70864177, 2459728.80910307]),\n",
       "    'zref': array([60, 40, 20])}}})"
      ]
     },
     "execution_count": 17,
     "metadata": {},
     "output_type": "execute_result"
    }
   ],
   "source": [
    "# add table file\n",
    "table = '/home/irene/provepy/VisCat/LONG_FITS.noMoon.thresh24.NEW.npy'\n",
    "\n",
    "# grb template name\n",
    "grb = event_id\n",
    "# site (check independently north and south!!!)\n",
    "site = 'North'\n",
    "\n",
    "# check data from table to compare later with independent results\n",
    "data = np.load(table, allow_pickle=True, encoding='latin1', fix_imports=True).flat[0]\n",
    "data[grb]['North'], data[grb]['South']"
   ]
  },
  {
   "cell_type": "code",
   "execution_count": 18,
   "id": "403c8257",
   "metadata": {},
   "outputs": [
    {
     "data": {
      "image/png": "[encoded data removed]",
      "text/plain": [
       "<Figure size 864x432 with 1 Axes>"
      ]
     },
     "metadata": {},
     "output_type": "display_data"
    }
   ],
   "source": [
    "fig, axes = plt.subplots(1 ,figsize=(12,6))\n",
    "axes.scatter(grb_tval.value, f_time, color='#607c8e')\n",
    "axes.vlines((data[event_id][site]['night01']['irfs']['start'][0] - t_trigger.value)*86400,\n",
    "          min(f_time),max(f_time),color = 'red', label ='obs. start time', alpha=0.5,linestyle= ':')\n",
    "axes.set_xlabel(r'time (s)')\n",
    "axes.set_ylabel(r'flux $(GeV cm^2 s)^{-1}$')\n",
    "axes.set_yscale('log')\n",
    "#axes.set_xlim(-1e2,1e3)\n",
    "axes.set_title(f'flux vs time {event_id}')\n",
    "axes.legend()\n",
    "#plt.savefig(f\"examples/Flux_GeV_{event_id}.png\", dpi=72)\n",
    "plt.show()"
   ]
  },
  {
   "cell_type": "code",
   "execution_count": 19,
   "id": "14a65ce2",
   "metadata": {},
   "outputs": [
    {
     "name": "stdout",
     "output_type": "stream",
     "text": [
      "       True             Twilight            Event       \n",
      "        JD                 JD                 JD        \n",
      "------------------ ------------------ ------------------\n",
      " 2459726.691070428 2459726.3984091086 2459726.4858593117\n",
      "2459726.6968191545 2459726.6968191545 2459726.8482539016\n",
      " 2459726.691070428 2459726.4734049146  2459726.568461109\n",
      " 2459726.913837907  2459726.913837907 2459727.0566409216\n"
     ]
    }
   ],
   "source": [
    "times = grb_tval.value\n",
    "print(visibility_table)"
   ]
  },
  {
   "cell_type": "code",
   "execution_count": 20,
   "id": "eda64888",
   "metadata": {},
   "outputs": [],
   "source": [
    "# event total duration\n",
    "afterglow_duration = Time((times[-1] - times[1]) / 86400, format='jd')\n",
    "# time windows [THIS SHOULD BE CHANGED ACCORDING TO THE TEMPLATE FORMAT]\n",
    "t = [Time(visibility_table['True'].data, format='jd')]  # Doesn't have more >1 visibility window to test\n",
    "t_true = []\n",
    "for row in t:\n",
    "    t_true.append(row[0:2])\n",
    "# minimum altitude\n",
    "min_altitude = visibility_table.meta['MIN_ALT'] * u.deg\n",
    "# set IRF altitude thresholds\n",
    "thresholds = tuple(sorted([24, 36, 57]))  # zenith 80 - 54 - 33 - 0\n",
    "# set IRF reference zenith angles\n",
    "zenith_angles = tuple(sorted([20, 40, 60], reverse=True))"
   ]
  },
  {
   "cell_type": "code",
   "execution_count": 21,
   "id": "f0fb9468",
   "metadata": {},
   "outputs": [
    {
     "name": "stdout",
     "output_type": "stream",
     "text": [
      "*** 2459726.691070428 2459728.8091030163\n",
      "\n",
      "Event full duration\n",
      "nights: {'start': array([2459726.69107043, 2459727.39898335, 2459728.39952812]), 'stop': array([2459726.69668842, 2459727.69646178, 2459728.69596945])}\n"
     ]
    },
    {
     "data": {
      "image/png": "[encoded data removed]",
      "text/plain": [
       "<Figure size 1080x432 with 1 Axes>"
      ]
     },
     "metadata": {},
     "output_type": "display_data"
    }
   ],
   "source": [
    "if_moon = False\n",
    "if_markers = True\n",
    "twilight = -18\n",
    "moon_sep = 30\n",
    "\n",
    "sites = {'North': 'Roque de los Muchachos', 'South': 'Paranal'}\n",
    "# initialise site coordinates\n",
    "north_site_coords = EarthLocation.of_site(sites['North'])\n",
    "south_site_coords = EarthLocation.of_site(sites['South'])\n",
    "if site == 'North':\n",
    "    site_coords = north_site_coords\n",
    "else:\n",
    "    site_coords = south_site_coords\n",
    "\n",
    "# initialise visibility\n",
    "t_start = t_trigger\n",
    "#duration = Time(2, format='jd')  \n",
    "duration = afterglow_duration\n",
    "print('***', t_trigger, t_trigger.value + afterglow_duration.value)\n",
    "total_points = 100\n",
    "night_points = 10\n",
    "\n",
    "fig,ax1 = plt.subplots(1,figsize=(15,6))\n",
    "\n",
    "\n",
    "\n",
    "# ignore warnings\n",
    "with warnings.catch_warnings():\n",
    "    warnings.filterwarnings('ignore')\n",
    "    print('\\nEvent full duration')\n",
    "    # initialise\n",
    "    visibility = Visibility()\n",
    "    # visibility points in JD and AltAz\n",
    "    visibility.visibility_points(t_start, duration, total_points)\n",
    "    visibility.visibility_altaz(source_radec, sites[site])\n",
    "    # find nights\n",
    "    nights_twilight = visibility.get_nighttime(0)\n",
    "    nights_astronomical = visibility.get_nighttime(-18)\n",
    "    if moon_sep == 0:\n",
    "        nights = visibility.get_nighttime(twilight=twilight)\n",
    "    else:\n",
    "        nights = visibility.get_nighttime_moonlight(twilight=twilight, moon_sep=moon_sep)\n",
    "    print('nights:', nights)\n",
    "    # plot source\n",
    "    #ax1.plot(visibility.vis_points.value, visibility.altaz.alt.value, 'bo', label='Target (CTA %s)' % site)\n",
    "    ax1.plot(visibility.vis_points.value, visibility.altaz.alt.value, 'b-', label='Target (CTA %s)' % site)\n",
    "    # plot min altitude\n",
    "    ax1.fill_between(visibility.vis_points.value, 0, min_altitude.value, color='k', zorder=1)\n",
    "    # plot sun\n",
    "    ax1.plot(visibility.vis_points.value, visibility.sun_altaz.alt.value, color='r', label='Sun')\n",
    "    # plot moon\n",
    "    if if_moon:\n",
    "        visibility.moon_position()\n",
    "        ax1.plot(visibility.vis_points.value, visibility.moon_altaz.alt, color='gray', ls='--', label='Moon')\n",
    "    # plot irf\n",
    "    ax1.fill_between(visibility.vis_points.value, thresholds[2], 90, color='yellow', alpha=0.2, label='IRF z20')\n",
    "    ax1.fill_between(visibility.vis_points.value, thresholds[1], thresholds[2], color='orange', alpha=0.2, label='IRF z40')\n",
    "    ax1.fill_between(visibility.vis_points.value, thresholds[0], thresholds[1], color='red', alpha=0.2, label='IRF z60') \n",
    "    # compute moon sky distance\n",
    "    moon_dist = visibility.moon_altaz.separation(visibility.altaz)\n",
    "    \n",
    "    # clear\n",
    "    del visibility\n",
    "\n",
    "    # within each night find IRFs\n",
    "    for i in range(len(nights['start'])):\n",
    "        #print('Night', i+1, 'of', len(nights['start']))\n",
    "        # plot nights\n",
    "        ax1.fill_between([nights_twilight['start'][i], nights_twilight['stop'][i]], 0, 90, color='0.5', zorder=0)\n",
    "        if len(nights_astronomical['start']) > i:\n",
    "            ax1.fill_between([nights_astronomical['start'][i], nights_astronomical['stop'][i]], 0, 90, color='k', zorder=0)\n",
    "            \n",
    "        # initialise night visibility\n",
    "        t_start = Time(nights['start'][i], format='jd')\n",
    "        duration = Time(nights['stop'][i] - nights['start'][i], format='jd')\n",
    "        visibility = Visibility()\n",
    "        # visibility points in JD and AltAz\n",
    "        visibility.visibility_points(t_start, duration, total_points)\n",
    "        visibility.visibility_altaz(source_radec, sites[site])\n",
    "        # IRFs and relative time intervals\n",
    "        irfs = visibility.associate_irf_zenith_angle(thresholds, zenith_angles)\n",
    "        # plot irf intervals\n",
    "        if if_markers and irfs['start'][0] > 0.:\n",
    "            for j in range(len(irfs['zref'])):\n",
    "                ax1.axvline(irfs['start'][j], color='white', ls='-.', lw=2)\n",
    "                ax1.axvline(irfs['stop'][j], color='white', ls='-.', lw=2)\n",
    "                \n",
    "            # complete IRFs\n",
    "            #print('IRFs', irfs['start'][0], irfs['stop'][-1], irfs['zref'])\n",
    "        del visibility\n",
    "\n",
    "    # complete plot ax1\n",
    "    ax1.set_ylim(0, 90)\n",
    "    ax1.set_xlabel('time (JD)')\n",
    "    ax1.set_ylabel('altitude (deg)')\n",
    "    ax1.title.set_text(f'{grb} - {site}')\n",
    "    ax1.legend()\n",
    "    suffix = site\n",
    "\n",
    "\n",
    "\n",
    "    if not if_moon:\n",
    "        suffix += '_noMoon'\n",
    "    if if_markers:\n",
    "        suffix += '_mark'\n",
    "    plt.savefig(f'examples/{grb}_{suffix}.png')\n",
    "    plt.show()"
   ]
  },
  {
   "cell_type": "code",
   "execution_count": 22,
   "id": "36e187ca",
   "metadata": {},
   "outputs": [
    {
     "name": "stdout",
     "output_type": "stream",
     "text": [
      "Start of first night of observation (seconds from trigger)\n",
      "0.0001609325408935547 s\n",
      "\n",
      "Start of first night of observation (hours from trigger)\n",
      "4.470348358154297e-08 h\n",
      "\n",
      "Duration of first night of observation (hours from trigger)\n",
      "0.13795727491378784 h\n"
     ]
    }
   ],
   "source": [
    "N1_start = (data[event_id][site]['night01']['irfs']['start'][0] - t_trigger.value)*86400 * u.s\n",
    "delta_N1 = (data[event_id][site]['night01']['irfs']['stop'][-1]-\n",
    "            data[event_id][site]['night01']['irfs']['start'][0])*86400 * u.s\n",
    "print('Start of first night of observation (seconds from trigger)')\n",
    "print(N1_start)\n",
    "print('\\nStart of first night of observation (hours from trigger)')\n",
    "print(N1_start.to(u.h))\n",
    "print('\\nDuration of first night of observation (hours from trigger)')\n",
    "print(delta_N1.to(u.h))"
   ]
  },
  {
   "cell_type": "code",
   "execution_count": 23,
   "id": "3cf60e89",
   "metadata": {},
   "outputs": [
    {
     "name": "stdout",
     "output_type": "stream",
     "text": [
      "Start of second night of observation (seconds from trigger)\n",
      "73216.58186763525 s\n",
      "\n",
      "Start of second night of observation (hours from trigger)\n",
      "20.33793940767646 h\n",
      "\n",
      "Duration of second night of observation (hours from trigger)\n",
      "3.7914868779480457 h\n"
     ]
    }
   ],
   "source": [
    "N2_start = (data[event_id][site]['night02']['irfs']['start'][0] - t_trigger.value)*86400 *u.s\n",
    "delta_N2 = (data[event_id][site]['night02']['irfs']['stop'][-1]-\n",
    "            data[event_id][site]['night02']['irfs']['start'][0])*86400 * u.s\n",
    "print('Start of second night of observation (seconds from trigger)')\n",
    "print(N2_start)\n",
    "print('\\nStart of second night of observation (hours from trigger)')\n",
    "print(N2_start.to(u.h))\n",
    "print('\\nDuration of second night of observation (hours from trigger)')\n",
    "print(delta_N2.to(u.h))"
   ]
  },
  {
   "cell_type": "code",
   "execution_count": null,
   "id": "db0ea2e2",
   "metadata": {},
   "outputs": [],
   "source": []
  }
 ],
 "metadata": {
  "kernelspec": {
   "display_name": "Python 3 (ipykernel)",
   "language": "python",
   "name": "python3"
  },
  "language_info": {
   "codemirror_mode": {
    "name": "ipython",
    "version": 3
   },
   "file_extension": ".py",
   "mimetype": "text/x-python",
   "name": "python",
   "nbconvert_exporter": "python",
   "pygments_lexer": "ipython3",
   "version": "3.9.6"
  }
 },
 "nbformat": 4,
 "nbformat_minor": 5
}
