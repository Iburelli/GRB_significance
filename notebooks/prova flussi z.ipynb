{
 "cells": [
  {
   "cell_type": "code",
   "execution_count": 8,
   "id": "f07fc266",
   "metadata": {},
   "outputs": [],
   "source": [
    "import numpy as np\n",
    "import matplotlib.pyplot as plt"
   ]
  },
  {
   "cell_type": "code",
   "execution_count": 9,
   "id": "037ded3b",
   "metadata": {},
   "outputs": [],
   "source": [
    "F1= np.load('examples/flux_Event991.npy', \n",
    "              allow_pickle=True, encoding='latin1', fix_imports=True).flat[0]\n"
   ]
  },
  {
   "cell_type": "code",
   "execution_count": 10,
   "id": "4b54a3bd",
   "metadata": {},
   "outputs": [],
   "source": [
    "F2 = np.load('examples/flux_Event547.npy', \n",
    "              allow_pickle=True, encoding='latin1', fix_imports=True).flat[0]\n"
   ]
  },
  {
   "cell_type": "code",
   "execution_count": 16,
   "id": "48f2687c",
   "metadata": {},
   "outputs": [
    {
     "name": "stdout",
     "output_type": "stream",
     "text": [
      "dict_keys(['energy', 'time', 'flux', 'absorbed_flux'])\n",
      "0 1.05 1.01\n",
      "1 1.35 1.26\n",
      "2 1.72 1.59\n",
      "3 2.21 1.99\n",
      "4 2.77 2.49\n",
      "5 3.51 3.12\n",
      "6 4.43 3.9\n",
      "7 5.55 4.88\n",
      "8 6.97 6.11\n",
      "9 8.78 7.64\n",
      "10 11.0 9.55\n",
      "11 13.8 12.0\n",
      "12 17.3 15.0\n",
      "13 21.7 18.8\n",
      "14 27.4 23.5\n",
      "15 34.4 29.6\n",
      "16 43.3 37.0\n",
      "17 54.1 46.7\n",
      "18 68.6 58.5\n",
      "19 86.2 73.6\n",
      "20 109.0 92.5\n",
      "21 136.0 116.0\n",
      "22 174.0 146.0\n",
      "23 220.0 184.0\n",
      "24 275.0 232.0\n",
      "25 347.0 291.0\n",
      "26 443.0 367.0\n",
      "27 556.0 460.0\n",
      "28 704.0 582.0\n",
      "29 899.0 729.0\n",
      "30 1130.0 921.0\n",
      "31 1420.0 1150.0\n",
      "32 1810.0 1450.0\n",
      "33 2310.0 1840.0\n",
      "34 2890.0 2320.0\n",
      "35 3640.0 2930.0\n",
      "36 4620.0 3660.0\n",
      "37 5900.0 4610.0\n",
      "38 7600.0 5840.0\n",
      "39 9510.0 7300.0\n",
      "40 12000.0 9190.0\n",
      "41 15200.0 11600.0\n",
      "42 19400.0 14900.0\n",
      "43 24900.0 18700.0\n",
      "44 32300.0 23600.0\n",
      "45 40400.0 30100.0\n",
      "46 50800.0 37700.0\n",
      "47 64300.0 47400.0\n",
      "48 82000.0 60200.0\n",
      "49 105000.0 76900.0\n",
      "50 136000.0 96200.0\n",
      "51 178000.0 121000.0\n"
     ]
    }
   ],
   "source": [
    "print(F1.keys())\n",
    "for i in range(len (F1['time'])):\n",
    "    print (i, F1['time'][i], F2['time'][i])"
   ]
  },
  {
   "cell_type": "code",
   "execution_count": 17,
   "id": "23373188",
   "metadata": {},
   "outputs": [
    {
     "data": {
      "image/png": "[encoded data removed]",
      "text/plain": [
       "<Figure size 864x432 with 1 Axes>"
      ]
     },
     "metadata": {
      "needs_background": "light"
     },
     "output_type": "display_data"
    }
   ],
   "source": [
    "fig,axes=plt.subplots(1,figsize=(12,6))\n",
    "axes.scatter(F1['energy'], F1['flux'][20],label='Event991 - z = 0.8', color = '#607c8e')\n",
    "axes.scatter(F2['energy'], F2['flux'][20],label='Event547 - z = 2.0', color = 'orange')\n",
    "axes.set_xlabel(r'time (s)')\n",
    "axes.set_ylabel(r'flux $(GeV cm^2 s)^{-1}$')\n",
    "axes.set_yscale('log')\n",
    "axes.legend()\n",
    "axes.set_title(f'flux vs time')\n",
    "#plt.savefig(f\"examples/Flux_GeV_{event_id}.png\", dpi=72)\n",
    "plt.show()"
   ]
  },
  {
   "cell_type": "code",
   "execution_count": null,
   "id": "42fd9fd1",
   "metadata": {},
   "outputs": [],
   "source": [
    "fig, axes = plt.subplots(1 ,figsize=(12,6))\n",
    "\n",
    "axes.scatter(grb_Eval.value, grb_fluxval_abs[10],  color='#607c8e',label='absorbed')\n",
    "axes.scatter(grb_Eval.value, grb_fluxval[10], marker ='*',color='orange',label = 'non absorbed')\n",
    "\n",
    "axes.set_xlabel(r'time (s)')\n",
    "axes.set_ylabel(r'flux $(GeV cm^2 s)^{-1}$')\n",
    "#axes.set_yscale('log')\n",
    "axes.set_xscale('log')\n",
    "#axes.legend()\n",
    "axes.set_title(f'flux vs time {event_id}')\n",
    "plt.savefig(f\"examples/Flux_GeV_{event_id}.png\", dpi=72)\n",
    "plt.show()"
   ]
  }
 ],
 "metadata": {
  "kernelspec": {
   "display_name": "Python 3 (ipykernel)",
   "language": "python",
   "name": "python3"
  },
  "language_info": {
   "codemirror_mode": {
    "name": "ipython",
    "version": 3
   },
   "file_extension": ".py",
   "mimetype": "text/x-python",
   "name": "python",
   "nbconvert_exporter": "python",
   "pygments_lexer": "ipython3",
   "version": "3.9.6"
  }
 },
 "nbformat": 4,
 "nbformat_minor": 5
}
