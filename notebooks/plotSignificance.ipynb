{
 "cells": [
  {
   "cell_type": "code",
   "execution_count": 1,
   "id": "71082ff8",
   "metadata": {},
   "outputs": [],
   "source": [
    "from matplotlib import pyplot as plt\n",
    "from matplotlib.lines import Line2D\n",
    "import numpy as np\n"
   ]
  },
  {
   "cell_type": "code",
   "execution_count": 2,
   "id": "5272aa72",
   "metadata": {},
   "outputs": [
    {
     "ename": "FileNotFoundError",
     "evalue": "[Errno 2] No such file or directory: '/home/irene/github/GRB_significance/notebooks/examples/Evt166.South.iterations.noMoon.thresh10.hidden.npy'",
     "output_type": "error",
     "traceback": [
      "\u001b[0;31m---------------------------------------------------------------------------\u001b[0m",
      "\u001b[0;31mFileNotFoundError\u001b[0m                         Traceback (most recent call last)",
      "\u001b[0;32m<ipython-input-2-d2ca0387e530>\u001b[0m in \u001b[0;36m<module>\u001b[0;34m\u001b[0m\n\u001b[0;32m----> 1\u001b[0;31m data= np.load('/home/irene/github/GRB_significance/notebooks/examples/Evt166.South.iterations.noMoon.thresh10.hidden.npy', \n\u001b[0m\u001b[1;32m      2\u001b[0m               allow_pickle=True, encoding='latin1', fix_imports=True).flat[0]\n\u001b[1;32m      3\u001b[0m \u001b[0mevents\u001b[0m \u001b[0;34m=\u001b[0m \u001b[0mlist\u001b[0m\u001b[0;34m(\u001b[0m\u001b[0mdata\u001b[0m\u001b[0;34m.\u001b[0m\u001b[0mkeys\u001b[0m\u001b[0;34m(\u001b[0m\u001b[0;34m)\u001b[0m\u001b[0;34m)\u001b[0m\u001b[0;34m\u001b[0m\u001b[0;34m\u001b[0m\u001b[0m\n\u001b[1;32m      4\u001b[0m \u001b[0msites\u001b[0m \u001b[0;34m=\u001b[0m \u001b[0mlist\u001b[0m\u001b[0;34m(\u001b[0m\u001b[0mdata\u001b[0m\u001b[0;34m[\u001b[0m\u001b[0mevents\u001b[0m\u001b[0;34m[\u001b[0m\u001b[0;36m0\u001b[0m\u001b[0;34m]\u001b[0m\u001b[0;34m]\u001b[0m\u001b[0;34m.\u001b[0m\u001b[0mkeys\u001b[0m\u001b[0;34m(\u001b[0m\u001b[0;34m)\u001b[0m\u001b[0;34m)\u001b[0m\u001b[0;34m\u001b[0m\u001b[0;34m\u001b[0m\u001b[0m\n",
      "\u001b[0;32m~/.local/lib/python3.8/site-packages/numpy/lib/npyio.py\u001b[0m in \u001b[0;36mload\u001b[0;34m(file, mmap_mode, allow_pickle, fix_imports, encoding)\u001b[0m\n\u001b[1;32m    415\u001b[0m             \u001b[0mown_fid\u001b[0m \u001b[0;34m=\u001b[0m \u001b[0;32mFalse\u001b[0m\u001b[0;34m\u001b[0m\u001b[0;34m\u001b[0m\u001b[0m\n\u001b[1;32m    416\u001b[0m         \u001b[0;32melse\u001b[0m\u001b[0;34m:\u001b[0m\u001b[0;34m\u001b[0m\u001b[0;34m\u001b[0m\u001b[0m\n\u001b[0;32m--> 417\u001b[0;31m             \u001b[0mfid\u001b[0m \u001b[0;34m=\u001b[0m \u001b[0mstack\u001b[0m\u001b[0;34m.\u001b[0m\u001b[0menter_context\u001b[0m\u001b[0;34m(\u001b[0m\u001b[0mopen\u001b[0m\u001b[0;34m(\u001b[0m\u001b[0mos_fspath\u001b[0m\u001b[0;34m(\u001b[0m\u001b[0mfile\u001b[0m\u001b[0;34m)\u001b[0m\u001b[0;34m,\u001b[0m \u001b[0;34m\"rb\"\u001b[0m\u001b[0;34m)\u001b[0m\u001b[0;34m)\u001b[0m\u001b[0;34m\u001b[0m\u001b[0;34m\u001b[0m\u001b[0m\n\u001b[0m\u001b[1;32m    418\u001b[0m             \u001b[0mown_fid\u001b[0m \u001b[0;34m=\u001b[0m \u001b[0;32mTrue\u001b[0m\u001b[0;34m\u001b[0m\u001b[0;34m\u001b[0m\u001b[0m\n\u001b[1;32m    419\u001b[0m \u001b[0;34m\u001b[0m\u001b[0m\n",
      "\u001b[0;31mFileNotFoundError\u001b[0m: [Errno 2] No such file or directory: '/home/irene/github/GRB_significance/notebooks/examples/Evt166.South.iterations.noMoon.thresh10.hidden.npy'"
     ]
    }
   ],
   "source": [
    "data= np.load('/home/irene/github/GRB_significance/notebooks/examples/Evt166.South.noMoon.thresh10.hidden.npy', \n",
    "              allow_pickle=True, encoding='latin1', fix_imports=True).flat[0]\n",
    "events = list(data.keys())\n",
    "sites = list(data[events[0]].keys())\n"
   ]
  },
  {
   "cell_type": "code",
   "execution_count": null,
   "id": "b12f6f5b",
   "metadata": {},
   "outputs": [],
   "source": [
    "custom_lines = [Line2D([0], [0], color='red', lw=4, alpha=0.3),\n",
    "                Line2D([0], [0], color='yellow', lw=4,alpha=0.3),\n",
    "                Line2D([0], [0], color='green', lw=4,alpha=0.3),\n",
    "                Line2D([0], [0], marker='o', color='red',\n",
    "                          markerfacecolor='red', markersize=5),\n",
    "                Line2D([0], [0], marker='o', color='g',\n",
    "                          markerfacecolor='g', markersize=5)]"
   ]
  },
  {
   "cell_type": "code",
   "execution_count": null,
   "id": "66fb4eab",
   "metadata": {},
   "outputs": [],
   "source": [
    "for event in events:\n",
    "    for site in sites:\n",
    "        for night in data[event][site]:\n",
    "            if type(data[event][site][night]['irf']) == float:\n",
    "                print(f'\\tThis contains NaNs event---> the source is not observable at the site {site} during {night}.')\n",
    "            else:\n",
    "                color_min = min(data[event][site][night]['significance']) - max(data[event][site][night]['variance'])\n",
    "                color_max = max(data[event][site][night]['significance']) + max(data[event][site][night]['variance'])\n",
    "                fig, axes = plt.subplots(1 ,figsize=(12,6))\n",
    "                for i in range(len(data[event][site][night]['irf'])):\n",
    "                    t_start= data[event][site][night]['t_start'][i]\n",
    "                    t_stop = data[event][site][night]['t_stop'][i]\n",
    "                    if data[event][site][night]['irf'][i].endswith('0.5h'):\n",
    "                        a=0.1\n",
    "                    elif data[event][site][night]['irf'][i].endswith('5h'):\n",
    "                        a= 0.2\n",
    "                    elif data[event][site][night]['irf'][i].endswith('50h'):\n",
    "                        a=0.3\n",
    "\n",
    "                    if 'z20' in data[event][site][night]['irf'][i]:\n",
    "                        axes.fill_between([t_start,t_stop], color_min, color_max, color='red', alpha=a, \n",
    "                                          label=f'IRF z20')\n",
    "                    elif 'z40' in data[event][site][night]['irf'][i]:\n",
    "                        axes.fill_between([t_start,t_stop], color_min, color_max, color='yellow', alpha=a, \n",
    "                                          label='IRF z40')\n",
    "                    elif 'z60' in data[event][site][night]['irf'][i]:\n",
    "                        axes.fill_between([t_start,t_stop], color_min, color_max, color='green', alpha=a,\n",
    "                                          label='IRF z60')\n",
    "\n",
    "                axes.errorbar (data[event][site][night]['t_stop'], data[event][site][night]['significance'], \n",
    "                               yerr= data[event][site][night]['variance'], color='#607c8e',fmt='o')\n",
    "                if '3sigma' in data[event][site][night].keys():\n",
    "                    axes.errorbar (data[event][site][night]['3sigma'][0], data[event][site][night]['3sigma'][1], \n",
    "                                   color='red',fmt='o')\n",
    "                if '5sigma' in data[event][site][night].keys():\n",
    "                    axes.errorbar (data[event][site][night]['5sigma'][0], data[event][site][night]['5sigma'][1], \n",
    "                                   color='g',fmt='o')\n",
    "                axes.set_xlabel(r'Time since \"explosion\"(s)')\n",
    "                axes.set_ylabel(r'$\\sigma_{Li&Ma}$')\n",
    "                axes.set_xscale('log')\n",
    "                axes.legend(custom_lines, ['North_z20', 'North_z40', 'North_z60',r'$3\\sigma$', r'$5\\sigma$'])\n",
    "                axes.set_title(f'{event} - {site} - {night}')\n",
    "                #plt.savefig(f\"examples/{event} - {site} - {night}.png\", dpi=72)   \n",
    "\n",
    "\n",
    "\n",
    "plt.show()\n"
   ]
  },
  {
   "cell_type": "markdown",
   "id": "0f5dc1e1",
   "metadata": {},
   "source": [
    "The Event reported here has been simulated only 3 times, these results are preliminary\n"
   ]
  },
  {
   "cell_type": "code",
   "execution_count": null,
   "id": "3ee0b157",
   "metadata": {},
   "outputs": [],
   "source": []
  }
 ],
 "metadata": {
  "kernelspec": {
   "display_name": "Python 3",
   "language": "python",
   "name": "python3"
  },
  "language_info": {
   "codemirror_mode": {
    "name": "ipython",
    "version": 3
   },
   "file_extension": ".py",
   "mimetype": "text/x-python",
   "name": "python",
   "nbconvert_exporter": "python",
   "pygments_lexer": "ipython3",
   "version": "3.8.6"
  }
 },
 "nbformat": 4,
 "nbformat_minor": 5
}
