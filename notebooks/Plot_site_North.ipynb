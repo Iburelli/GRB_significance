{
 "cells": [
  {
   "cell_type": "code",
   "execution_count": 1,
   "id": "7a32f632",
   "metadata": {},
   "outputs": [],
   "source": [
    "import numpy as np\n",
    "import pandas as pd\n",
    "import matplotlib.pyplot as plt"
   ]
  },
  {
   "cell_type": "markdown",
   "id": "4d763952",
   "metadata": {
    "slideshow": {
     "slide_type": "slide"
    }
   },
   "source": [
    "Reading the table with grbs varibles in order to atttach $E_{iso}$ and z to each event(these variables will be used for plots"
   ]
  },
  {
   "cell_type": "code",
   "execution_count": 2,
   "id": "26cf605f",
   "metadata": {},
   "outputs": [],
   "source": [
    "df=pd.read_csv('table_1000_long.csv', index_col=0)"
   ]
  },
  {
   "cell_type": "code",
   "execution_count": 3,
   "id": "d4656674",
   "metadata": {},
   "outputs": [
    {
     "data": {
      "text/html": [
       "<div>\n",
       "<style scoped>\n",
       "    .dataframe tbody tr th:only-of-type {\n",
       "        vertical-align: middle;\n",
       "    }\n",
       "\n",
       "    .dataframe tbody tr th {\n",
       "        vertical-align: top;\n",
       "    }\n",
       "\n",
       "    .dataframe thead th {\n",
       "        text-align: right;\n",
       "    }\n",
       "</style>\n",
       "<table border=\"1\" class=\"dataframe\">\n",
       "  <thead>\n",
       "    <tr style=\"text-align: right;\">\n",
       "      <th></th>\n",
       "      <th>Num</th>\n",
       "      <th>Ra</th>\n",
       "      <th>Dec</th>\n",
       "      <th>Redshift</th>\n",
       "      <th>Eiso</th>\n",
       "      <th>Liso</th>\n",
       "      <th>Epeak</th>\n",
       "      <th>Duration</th>\n",
       "      <th>Gamma0(H)</th>\n",
       "      <th>Gamma0(W)</th>\n",
       "      <th>Phflux(15-150)</th>\n",
       "      <th>alfa</th>\n",
       "      <th>beta</th>\n",
       "      <th>PhFlux(10-1000)</th>\n",
       "    </tr>\n",
       "  </thead>\n",
       "  <tbody>\n",
       "    <tr>\n",
       "      <th>0</th>\n",
       "      <td>1</td>\n",
       "      <td>211.3340</td>\n",
       "      <td>71.0714</td>\n",
       "      <td>2.358773</td>\n",
       "      <td>3.873160e+53</td>\n",
       "      <td>3.471493e+52</td>\n",
       "      <td>602.763363</td>\n",
       "      <td>108.845</td>\n",
       "      <td>153.147</td>\n",
       "      <td>96.239</td>\n",
       "      <td>3.370</td>\n",
       "      <td>-1.130</td>\n",
       "      <td>-2.380</td>\n",
       "      <td>NaN</td>\n",
       "    </tr>\n",
       "    <tr>\n",
       "      <th>1</th>\n",
       "      <td>2</td>\n",
       "      <td>82.4082</td>\n",
       "      <td>-23.5267</td>\n",
       "      <td>1.131562</td>\n",
       "      <td>1.684641e+53</td>\n",
       "      <td>1.130565e+52</td>\n",
       "      <td>396.028272</td>\n",
       "      <td>88.762</td>\n",
       "      <td>424.473</td>\n",
       "      <td>165.292</td>\n",
       "      <td>6.918</td>\n",
       "      <td>-1.049</td>\n",
       "      <td>-2.509</td>\n",
       "      <td>NaN</td>\n",
       "    </tr>\n",
       "    <tr>\n",
       "      <th>2</th>\n",
       "      <td>3</td>\n",
       "      <td>92.1914</td>\n",
       "      <td>35.9299</td>\n",
       "      <td>2.023389</td>\n",
       "      <td>5.181373e+53</td>\n",
       "      <td>1.973927e+52</td>\n",
       "      <td>560.332365</td>\n",
       "      <td>259.619</td>\n",
       "      <td>362.259</td>\n",
       "      <td>179.344</td>\n",
       "      <td>2.714</td>\n",
       "      <td>-0.955</td>\n",
       "      <td>-2.473</td>\n",
       "      <td>NaN</td>\n",
       "    </tr>\n",
       "    <tr>\n",
       "      <th>3</th>\n",
       "      <td>4</td>\n",
       "      <td>11.8900</td>\n",
       "      <td>42.4303</td>\n",
       "      <td>2.852917</td>\n",
       "      <td>7.321880e+52</td>\n",
       "      <td>3.195091e+52</td>\n",
       "      <td>278.800372</td>\n",
       "      <td>22.905</td>\n",
       "      <td>253.767</td>\n",
       "      <td>102.093</td>\n",
       "      <td>3.175</td>\n",
       "      <td>-0.930</td>\n",
       "      <td>-2.438</td>\n",
       "      <td>NaN</td>\n",
       "    </tr>\n",
       "    <tr>\n",
       "      <th>4</th>\n",
       "      <td>5</td>\n",
       "      <td>105.1957</td>\n",
       "      <td>-14.9235</td>\n",
       "      <td>2.944518</td>\n",
       "      <td>1.547294e+53</td>\n",
       "      <td>4.593979e+52</td>\n",
       "      <td>568.000476</td>\n",
       "      <td>53.856</td>\n",
       "      <td>220.795</td>\n",
       "      <td>105.403</td>\n",
       "      <td>3.439</td>\n",
       "      <td>-1.002</td>\n",
       "      <td>-2.689</td>\n",
       "      <td>NaN</td>\n",
       "    </tr>\n",
       "  </tbody>\n",
       "</table>\n",
       "</div>"
      ],
      "text/plain": [
       "   Num        Ra      Dec  Redshift          Eiso          Liso       Epeak  \\\n",
       "0    1  211.3340  71.0714  2.358773  3.873160e+53  3.471493e+52  602.763363   \n",
       "1    2   82.4082 -23.5267  1.131562  1.684641e+53  1.130565e+52  396.028272   \n",
       "2    3   92.1914  35.9299  2.023389  5.181373e+53  1.973927e+52  560.332365   \n",
       "3    4   11.8900  42.4303  2.852917  7.321880e+52  3.195091e+52  278.800372   \n",
       "4    5  105.1957 -14.9235  2.944518  1.547294e+53  4.593979e+52  568.000476   \n",
       "\n",
       "   Duration  Gamma0(H)  Gamma0(W)  Phflux(15-150)   alfa   beta  \\\n",
       "0   108.845    153.147     96.239           3.370 -1.130 -2.380   \n",
       "1    88.762    424.473    165.292           6.918 -1.049 -2.509   \n",
       "2   259.619    362.259    179.344           2.714 -0.955 -2.473   \n",
       "3    22.905    253.767    102.093           3.175 -0.930 -2.438   \n",
       "4    53.856    220.795    105.403           3.439 -1.002 -2.689   \n",
       "\n",
       "   PhFlux(10-1000)  \n",
       "0              NaN  \n",
       "1              NaN  \n",
       "2              NaN  \n",
       "3              NaN  \n",
       "4              NaN  "
      ]
     },
     "execution_count": 3,
     "metadata": {},
     "output_type": "execute_result"
    }
   ],
   "source": [
    "df.head()"
   ]
  },
  {
   "cell_type": "markdown",
   "id": "956438a5",
   "metadata": {},
   "source": [
    "### Reading significance from npy tables"
   ]
  },
  {
   "cell_type": "code",
   "execution_count": 4,
   "id": "817e8763",
   "metadata": {},
   "outputs": [],
   "source": [
    "data= np.load('examples/Events.merged.North.noMoon.thresh10.npy', \n",
    "              allow_pickle=True, encoding='latin1', fix_imports=True).flat[0]\n",
    "events = list(data.keys())\n",
    "sites = list(data[events[0]].keys())\n"
   ]
  },
  {
   "cell_type": "code",
   "execution_count": 5,
   "id": "22266982",
   "metadata": {},
   "outputs": [],
   "source": [
    "summed={}\n",
    "max_sigma=[]\n",
    "z=[]\n",
    "Eiso=[]\n",
    "\n",
    "for event in events:\n",
    "    summed[event]={}\n",
    "    for i,num in enumerate(df.Num):\n",
    "        if event.endswith(f'Event{num}'):\n",
    "            z.append(df.Redshift[num-1] )   #the resulting vectors will \n",
    "            Eiso.append(df.Eiso[num-1])     #have the same order as events list\n",
    "            \n",
    "            for site in sites:\n",
    "                summed[event][site]={'significance':[]}\n",
    "\n",
    "                for night in data[event][site]:\n",
    "                    if night != 'first_night_start':\n",
    "                        if type(data[event][site][night]['irf']) == float:\n",
    "                            \n",
    "                            summed[event][site]['significance'].append(0.0)\n",
    "                        else:\n",
    "                            \n",
    "                            if type(summed[event][site]['significance'])==float:\n",
    "                                summed[event][site]['significance']=[]\n",
    "                            summed[event][site]['significance'].append(\n",
    "                                data[event][site][night]['significance'])\n",
    "                \n"
   ]
  },
  {
   "cell_type": "code",
   "execution_count": 6,
   "id": "eabf014f",
   "metadata": {},
   "outputs": [],
   "source": [
    "for event in events:\n",
    "    #print (event)\n",
    "    for site in sites:                               \n",
    "            \n",
    "        summed[event][site]['significance']=np.hstack(summed[event][site]['significance'])\n",
    "        max_sigma.append(max(summed[event][site]['significance']))\n",
    "                "
   ]
  },
  {
   "cell_type": "markdown",
   "id": "d9e58689",
   "metadata": {},
   "source": [
    "In order to inspect if everithing is fine let's print the shape of some vectors. They must be equal if the script has performed correctly. If they are not it's a big deal "
   ]
  },
  {
   "cell_type": "code",
   "execution_count": 7,
   "id": "48c8961f",
   "metadata": {},
   "outputs": [
    {
     "name": "stdout",
     "output_type": "stream",
     "text": [
      "700\n",
      "700\n"
     ]
    }
   ],
   "source": [
    "max_sigma=np.array(max_sigma)\n",
    "print(len(max_sigma))\n",
    "print (len(events))\n"
   ]
  },
  {
   "cell_type": "code",
   "execution_count": 8,
   "id": "57c0178e",
   "metadata": {},
   "outputs": [],
   "source": [
    "z=np.array(z)   #as usual going from list to array\n",
    "Eiso=np.array(Eiso)"
   ]
  },
  {
   "cell_type": "code",
   "execution_count": 9,
   "id": "86f22551",
   "metadata": {},
   "outputs": [
    {
     "data": {
      "text/plain": [
       "(700,)"
      ]
     },
     "execution_count": 9,
     "metadata": {},
     "output_type": "execute_result"
    }
   ],
   "source": [
    "z.shape     # must be equal to len(events)"
   ]
  },
  {
   "cell_type": "code",
   "execution_count": 10,
   "id": "d4e978a7",
   "metadata": {},
   "outputs": [],
   "source": [
    "sel_z=[]\n",
    "sel_E=[]\n",
    "sel_sigma=[]\n",
    "for i in range(len(max_sigma)):\n",
    "    if max_sigma[i]>=3:\n",
    "        sel_z.append(z[i])\n",
    "        sel_E.append(Eiso[i])\n",
    "        sel_sigma.append(max_sigma[i])\n",
    "sel_z=np.array(sel_z)\n",
    "sel_E=np.array(sel_E)"
   ]
  },
  {
   "cell_type": "code",
   "execution_count": 17,
   "id": "c5518223",
   "metadata": {},
   "outputs": [
    {
     "data": {
      "image/png": "[encoded data removed]",
      "text/plain": [
       "<Figure size 360x288 with 1 Axes>"
      ]
     },
     "metadata": {
      "needs_background": "light"
     },
     "output_type": "display_data"
    }
   ],
   "source": [
    "N=len(max_sigma)\n",
    "M=len(sel_sigma)\n",
    "c1 = np.random.rand(N)\n",
    "c2 = np.random.rand(M)\n",
    "fig, axes = plt.subplots(1,figsize=(5,4));\n",
    "axes.scatter(z,Eiso,s=1.5,color='black',label='all')\n",
    "#axes.scatter(z, Eiso, s=max_sigma, c=c1, alpha=0.7, label=r'$\\sigma_{max}$')\n",
    "axes.scatter(sel_z, sel_E, s=sel_sigma, c=c2, alpha=0.7, label=r'$\\sigma_{max}$')\n",
    "axes.set_yscale('log')\n",
    "#axes.set_xlim(-0.1,5.5)\n",
    "#axes.set_ylim(0.5e51,5e55)\n",
    "axes.set_xlabel('Redshift (z)')\n",
    "axes.set_ylabel(r'$\\log_{10}E_{iso}$')\n",
    "axes.set_title('North')\n",
    "#axes.legend()\n",
    "#plt.savefig('examples/Significance-North.png',dpi=72)\n",
    "plt.show()"
   ]
  },
  {
   "cell_type": "markdown",
   "id": "e1537c54",
   "metadata": {},
   "source": [
    "Valutare se sia o meno il caso di ridurre il numero di eventi colorati scegliendo di rappresentare in questo modo solo quelli con sigma superiore a 3"
   ]
  },
  {
   "cell_type": "code",
   "execution_count": null,
   "id": "35bd7a47",
   "metadata": {},
   "outputs": [],
   "source": []
  }
 ],
 "metadata": {
  "kernelspec": {
   "display_name": "Python 3",
   "language": "python",
   "name": "python3"
  },
  "language_info": {
   "codemirror_mode": {
    "name": "ipython",
    "version": 3
   },
   "file_extension": ".py",
   "mimetype": "text/x-python",
   "name": "python",
   "nbconvert_exporter": "python",
   "pygments_lexer": "ipython3",
   "version": "3.9.4"
  }
 },
 "nbformat": 4,
 "nbformat_minor": 5
}
